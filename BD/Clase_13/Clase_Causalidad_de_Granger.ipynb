{
    "cells": [
        {
            "cell_type": "markdown",
            "metadata": {},
            "source": [
                "\n",
                "### Dependencies and Setup\n"
            ]
        },
        {
            "cell_type": "code",
            "execution_count": null,
            "metadata": {},
            "outputs": [],
            "source": [
                "knitr::opts_chunk$set(echo = TRUE)\n",
                "\n",
                "#install.packages(\"ggplot2\")\n",
                "#install.packages(\"dplyr\")\n",
                "#install.packages(\"readxl\")\n",
                "#install.packages(stats)\n",
                "#install.packages(\"zoo\")\n",
                "#install.packages(\"lmtest\")\n",
                "# \n",
                "library(ggplot2)\n",
                "library(dplyr)\n",
                "library(readxl)\n",
                "library(stats)\n",
                "library(zoo)\n",
                "library(lmtest)\n"
            ]
        },
        {
            "cell_type": "markdown",
            "metadata": {},
            "source": [
                "# Importamos Datos desde un archivo de R:\n",
                "\n",
                "Los datos \"cargados\" son los originales y los ajustados por estacionalidad. Los cuales son:\n",
                "\n",
                "* INPC: Indice Nacional de Precios al Consumidor (2QJul2018 = 100)\n",
                "\n",
                "* TC: Tipo de Cambio FIX \n",
                "\n",
                "* CETE28: Tasa de rendimiento promedio mensual de los Cetes 28, en por ciento anual\n",
                "\n",
                "* IGAE: Indicador global de la actividad económica (2013 = 100)\n",
                "\n",
                "* IPI: Industrial Production Index (2012 = 100)\n"
            ]
        },
        {
            "cell_type": "code",
            "execution_count": null,
            "metadata": {},
            "outputs": [],
            "source": [
                "load(\"Datos_Ad.RData\")\n",
                "\n",
                "head(Datos_Ad)\n"
            ]
        },
        {
            "cell_type": "markdown",
            "metadata": {},
            "source": [
                "## Conversion a series de tiempo:\n",
                "\n"
            ]
        },
        {
            "cell_type": "code",
            "execution_count": null,
            "metadata": {},
            "outputs": [],
            "source": [
                "INPC <- ts(Datos_Ad$INPC_Ad, \n",
                "           start = c(2000, 1), \n",
                "           freq = 12)\n",
                "\n",
                "DLINPC <- ts(log(Datos_Ad$INPC_Ad) - lag(log(Datos_Ad$INPC_Ad), k = 1), \n",
                "             start = c(2000, 1), \n",
                "             freq = 12)\n",
                "\n",
                "TC <- ts(Datos_Ad$TC_Ad, \n",
                "         start = c(2000, 1), \n",
                "         freq = 12)\n",
                "\n",
                "DLTC <- ts(log(Datos_Ad$TC_Ad) - lag(log(Datos_Ad$TC_Ad), k = 1), \n",
                "           start = c(2000, 1), \n",
                "           freq = 12)\n",
                "\n",
                "CETE28 <- ts(Datos_Ad$CETE28_Ad, \n",
                "             start = c(2000, 1), \n",
                "             freq = 12)\n",
                "\n",
                "DLCETE28 <- ts(log(Datos_Ad$CETE28_Ad) - lag(log(Datos_Ad$CETE28_Ad), k = 1), \n",
                "               start = c(2000, 1), \n",
                "               freq = 12)\n"
            ]
        },
        {
            "cell_type": "markdown",
            "metadata": {},
            "source": [
                "## Graficas:\n",
                "\n"
            ]
        },
        {
            "cell_type": "code",
            "execution_count": null,
            "metadata": {},
            "outputs": [],
            "source": [
                "par(mfrow=c(3, 1))\n",
                "\n",
                "plot(DLINPC, xlab = \"Tiempo\", \n",
                "     main = \"Diferencias Logarítmicas del INPC\",\n",
                "     col = \"darkgreen\")\n",
                "\n",
                "plot(DLTC, xlab = \"Tiempo\", \n",
                "     main = \"Diferencias Logarítmicas del Tipo de Cambio\",\n",
                "     col = \"darkblue\")\n",
                "\n",
                "plot(DLCETE28, xlab = \"Tiempo\", \n",
                "     main = \"Diferencias Logarítmicas de los Cetes a 28 dias\",\n",
                "     col = \"darkred\")\n",
                "\n",
                "par(mfrow=c(1, 1))\n"
            ]
        },
        {
            "cell_type": "markdown",
            "metadata": {},
            "source": [
                "## Prueba de Causalidad de Granger\n",
                "\n",
                "### Combinacion en un solo set de datos\n"
            ]
        },
        {
            "cell_type": "code",
            "execution_count": null,
            "metadata": {},
            "outputs": [],
            "source": [
                "Datos <- data.frame(cbind(DLINPC, DLTC, DLCETE28))\n",
                "\n",
                "Datos <- cbind(Datos_Ad[\"FECHA\"], Datos)\n",
                "\n",
                "names(Datos)\n"
            ]
        },
        {
            "cell_type": "markdown",
            "metadata": {},
            "source": [
                "## Las pruebas de causalidad para 4, 8, 12 y 16 rezagos:\n",
                "\n",
                "### 4\n"
            ]
        },
        {
            "cell_type": "code",
            "execution_count": null,
            "metadata": {},
            "outputs": [],
            "source": [
                "grangertest(DLINPC ~ DLTC, order = 4, data = Datos)\n",
                "\n"
            ]
        },
        {
            "cell_type": "markdown",
            "metadata": {},
            "source": "\n"
        },
        {
            "cell_type": "code",
            "execution_count": null,
            "metadata": {},
            "outputs": [],
            "source": [
                "grangertest(DLTC ~ DLINPC, order = 4, data = Datos)\n",
                "\n"
            ]
        },
        {
            "cell_type": "markdown",
            "metadata": {},
            "source": "\n"
        },
        {
            "cell_type": "code",
            "execution_count": null,
            "metadata": {},
            "outputs": [],
            "source": [
                "grangertest(DLINPC ~ DLCETE28, order = 4, data = Datos)\n",
                "\n"
            ]
        },
        {
            "cell_type": "markdown",
            "metadata": {},
            "source": "\n"
        },
        {
            "cell_type": "code",
            "execution_count": null,
            "metadata": {},
            "outputs": [],
            "source": [
                "grangertest(DLCETE28 ~ DLINPC, order = 4, data = Datos)\n",
                "\n"
            ]
        },
        {
            "cell_type": "markdown",
            "metadata": {},
            "source": "\n"
        },
        {
            "cell_type": "code",
            "execution_count": null,
            "metadata": {},
            "outputs": [],
            "source": [
                "grangertest(DLTC ~ DLCETE28, order = 4, data = Datos)\n",
                "\n"
            ]
        },
        {
            "cell_type": "markdown",
            "metadata": {},
            "source": "\n"
        },
        {
            "cell_type": "code",
            "execution_count": null,
            "metadata": {},
            "outputs": [],
            "source": [
                "grangertest(DLCETE28 ~ DLTC, order = 4, data = Datos)\n",
                "\n"
            ]
        },
        {
            "cell_type": "markdown",
            "metadata": {},
            "source": [
                "### 8\n",
                "\n"
            ]
        },
        {
            "cell_type": "code",
            "execution_count": null,
            "metadata": {},
            "outputs": [],
            "source": [
                "grangertest(DLINPC ~ DLTC, order = 8, data = Datos)\n",
                "\n"
            ]
        },
        {
            "cell_type": "markdown",
            "metadata": {},
            "source": "\n"
        },
        {
            "cell_type": "code",
            "execution_count": null,
            "metadata": {},
            "outputs": [],
            "source": [
                "grangertest(DLTC ~ DLINPC, order = 8, data = Datos)\n",
                "\n"
            ]
        },
        {
            "cell_type": "markdown",
            "metadata": {},
            "source": "\n"
        },
        {
            "cell_type": "code",
            "execution_count": null,
            "metadata": {},
            "outputs": [],
            "source": [
                "grangertest(DLINPC ~ DLCETE28, order = 8, data = Datos)\n",
                "\n"
            ]
        },
        {
            "cell_type": "markdown",
            "metadata": {},
            "source": "\n"
        },
        {
            "cell_type": "code",
            "execution_count": null,
            "metadata": {},
            "outputs": [],
            "source": [
                "grangertest(DLCETE28 ~ DLINPC, order = 8, data = Datos)\n",
                "\n"
            ]
        },
        {
            "cell_type": "markdown",
            "metadata": {},
            "source": "\n"
        },
        {
            "cell_type": "code",
            "execution_count": null,
            "metadata": {},
            "outputs": [],
            "source": [
                "grangertest(DLTC ~ DLCETE28, order = 8, data = Datos)\n",
                "\n"
            ]
        },
        {
            "cell_type": "markdown",
            "metadata": {},
            "source": "\n"
        },
        {
            "cell_type": "code",
            "execution_count": null,
            "metadata": {},
            "outputs": [],
            "source": [
                "grangertest(DLCETE28 ~ DLTC, order = 8, data = Datos)\n",
                "\n"
            ]
        },
        {
            "cell_type": "markdown",
            "metadata": {},
            "source": [
                "### 12\n",
                "\n"
            ]
        },
        {
            "cell_type": "code",
            "execution_count": null,
            "metadata": {},
            "outputs": [],
            "source": [
                "grangertest(DLINPC ~ DLTC, order = 12, data = Datos)\n",
                "\n"
            ]
        },
        {
            "cell_type": "markdown",
            "metadata": {},
            "source": "\n"
        },
        {
            "cell_type": "code",
            "execution_count": null,
            "metadata": {},
            "outputs": [],
            "source": [
                "grangertest(DLTC ~ DLINPC, order = 12, data = Datos)\n",
                "\n"
            ]
        },
        {
            "cell_type": "markdown",
            "metadata": {},
            "source": "\n"
        },
        {
            "cell_type": "code",
            "execution_count": null,
            "metadata": {},
            "outputs": [],
            "source": [
                "grangertest(DLINPC ~ DLCETE28, order = 12, data = Datos)\n",
                "\n"
            ]
        },
        {
            "cell_type": "markdown",
            "metadata": {},
            "source": "\n"
        },
        {
            "cell_type": "code",
            "execution_count": null,
            "metadata": {},
            "outputs": [],
            "source": [
                "grangertest(DLCETE28 ~ DLINPC, order = 12, data = Datos)\n",
                "\n"
            ]
        },
        {
            "cell_type": "markdown",
            "metadata": {},
            "source": "\n"
        },
        {
            "cell_type": "code",
            "execution_count": null,
            "metadata": {},
            "outputs": [],
            "source": [
                "grangertest(DLTC ~ DLCETE28, order = 12, data = Datos)\n",
                "\n"
            ]
        },
        {
            "cell_type": "markdown",
            "metadata": {},
            "source": "\n"
        },
        {
            "cell_type": "code",
            "execution_count": null,
            "metadata": {},
            "outputs": [],
            "source": [
                "grangertest(DLCETE28 ~ DLTC, order = 12, data = Datos)\n",
                "\n"
            ]
        },
        {
            "cell_type": "markdown",
            "metadata": {},
            "source": [
                "### 16\n",
                "\n"
            ]
        },
        {
            "cell_type": "code",
            "execution_count": null,
            "metadata": {},
            "outputs": [],
            "source": [
                "grangertest(DLINPC ~ DLTC, order = 16, data = Datos)\n",
                "\n"
            ]
        },
        {
            "cell_type": "markdown",
            "metadata": {},
            "source": "\n"
        },
        {
            "cell_type": "code",
            "execution_count": null,
            "metadata": {},
            "outputs": [],
            "source": [
                "grangertest(DLTC ~ DLINPC, order = 16, data = Datos)\n",
                "\n"
            ]
        },
        {
            "cell_type": "markdown",
            "metadata": {},
            "source": "\n"
        },
        {
            "cell_type": "code",
            "execution_count": null,
            "metadata": {},
            "outputs": [],
            "source": [
                "grangertest(DLINPC ~ DLCETE28, order = 16, data = Datos)\n",
                "\n"
            ]
        },
        {
            "cell_type": "markdown",
            "metadata": {},
            "source": "\n"
        },
        {
            "cell_type": "code",
            "execution_count": null,
            "metadata": {},
            "outputs": [],
            "source": [
                "grangertest(DLCETE28 ~ DLINPC, order = 16, data = Datos)\n",
                "\n"
            ]
        },
        {
            "cell_type": "markdown",
            "metadata": {},
            "source": "\n"
        },
        {
            "cell_type": "code",
            "execution_count": null,
            "metadata": {},
            "outputs": [],
            "source": [
                "grangertest(DLTC ~ DLCETE28, order = 16, data = Datos)\n",
                "\n"
            ]
        },
        {
            "cell_type": "markdown",
            "metadata": {},
            "source": "\n"
        },
        {
            "cell_type": "code",
            "execution_count": null,
            "metadata": {},
            "outputs": [],
            "source": [
                "grangertest(DLCETE28 ~ DLTC, order = 16, data = Datos)\n",
                "\n"
            ]
        }
    ],
    "metadata": {
        "anaconda-cloud": "",
        "kernelspec": {
            "display_name": "R",
            "langauge": "R",
            "name": "ir"
        },
        "language_info": {
            "codemirror_mode": "r",
            "file_extension": ".r",
            "mimetype": "text/x-r-source",
            "name": "R",
            "pygments_lexer": "r",
            "version": "3.4.1"
        }
    },
    "nbformat": 4,
    "nbformat_minor": 1
}
