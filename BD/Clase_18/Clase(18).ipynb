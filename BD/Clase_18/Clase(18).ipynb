{
    "cells": [
        {
            "cell_type": "markdown",
            "metadata": {},
            "source": [
                "\n",
                "### Dependencies and Setup\n"
            ]
        },
        {
            "cell_type": "code",
            "execution_count": null,
            "metadata": {},
            "outputs": [],
            "source": [
                "knitr::opts_chunk$set(echo = TRUE)\n",
                "\n",
                "#install.packages(\"ggplot2\")\n",
                "#install.packages(\"dplyr\")\n",
                "#install.packages(stats)\n",
                "#install.packages(\"MASS\")\n",
                "#install.packages(\"strucchange\")\n",
                "#install.packages(\"zoo\")\n",
                "#install.packages(\"sandwich\")\n",
                "#install.packages(\"urca\")\n",
                "#install.packages(\"lmtest\")\n",
                "#install.packages(\"vars\")\n",
                "# \n",
                "library(ggplot2)\n",
                "library(dplyr)\n",
                "library(stats)\n",
                "library(MASS)\n",
                "library(strucchange)\n",
                "library(zoo)\n",
                "library(sandwich)\n",
                "library(urca)\n",
                "library(lmtest)\n",
                "library(vars)\n"
            ]
        },
        {
            "cell_type": "markdown",
            "metadata": {},
            "source": [
                "# Importamos Datos desde un archivo de R:\n",
                "\n",
                "Los datos \"cargados\" son los originales y los ajustados por estacionalidad. Los cuales son:\n",
                "\n",
                "* INPC: Indice Nacional de Precios al Consumidor (2QJul2018 = 100)\n",
                "\n",
                "* TC: Tipo de Cambio FIX \n",
                "\n",
                "* CETE28: Tasa de rendimiento promedio mensual de los Cetes 28, en por ciento anual\n",
                "\n",
                "* IGAE: Indicador global de la actividad económica (2013 = 100)\n",
                "\n",
                "* IPI: Industrial Production Index (2012 = 100)\n"
            ]
        },
        {
            "cell_type": "code",
            "execution_count": null,
            "metadata": {},
            "outputs": [],
            "source": [
                "load(\"Datos_Ad.RData\")\n",
                "\n",
                "head(Datos_Ad)\n"
            ]
        },
        {
            "cell_type": "markdown",
            "metadata": {},
            "source": [
                "## Conversion a series de tiempo:\n",
                "\n"
            ]
        },
        {
            "cell_type": "code",
            "execution_count": null,
            "metadata": {},
            "outputs": [],
            "source": [
                "Datos <- ts(Datos_Ad[7: 11], \n",
                "            start = c(2000, 1), \n",
                "            end = c(2021, 7), \n",
                "            freq = 12)\n",
                "\n",
                "LDatos <- log(Datos)\n",
                "\n",
                "DLDatos <- diff(log(Datos, base = exp(1)), \n",
                "                lag = 1, \n",
                "                differences = 1)\n"
            ]
        },
        {
            "cell_type": "markdown",
            "metadata": {},
            "source": [
                "\n",
                "# Gráficas\n"
            ]
        },
        {
            "cell_type": "code",
            "execution_count": null,
            "metadata": {},
            "outputs": [],
            "source": [
                "plot(cbind(LDatos, DLDatos), \n",
                "     plot.type = \"m\", nc = 2,\n",
                "     col = c(\"darkgreen\", \"darkblue\", \"darkred\", \"orange\", \"purple\"), \n",
                "     main = \"Comparacion de Series en Diferencias\", \n",
                "     xlab = \"Tiempo\")\n"
            ]
        },
        {
            "cell_type": "markdown",
            "metadata": {},
            "source": [
                "## Condicional en que todas las series son I(1)\n",
                " \n",
                " \n",
                " \n",
                "## VAR Selection:\n"
            ]
        },
        {
            "cell_type": "code",
            "execution_count": null,
            "metadata": {},
            "outputs": [],
            "source": [
                "VARselect(LDatos, lag.max = 10, type = \"both\")\n",
                "\n",
                "VARselect(LDatos, lag.max = 10, type = \"trend\")\n",
                "\n",
                "VARselect(LDatos, lag.max = 10, type = \"const\")\n",
                "\n",
                "VARselect(LDatos, lag.max = 10, type = \"none\")\n"
            ]
        },
        {
            "cell_type": "markdown",
            "metadata": {},
            "source": [
                "# Cointegration Test:\n",
                "ca.jo = function (x, type = c(\"eigen\", \"trace\"), ecdet = c(\"none\", \"const\", \n",
                "\"trend\"), K = 2, spec = c(\"longrun\", \"transitory\"), season = NULL, \n",
                "dumvar = NULL) \n",
                "\n",
                "## Prueba basada en la TRAZA\n"
            ]
        },
        {
            "cell_type": "code",
            "execution_count": null,
            "metadata": {},
            "outputs": [],
            "source": [
                "summary(ca.jo(LDatos, type = \"trace\", ecdet = \"trend\", K = 2, spec = \"longrun\"))\n",
                "\n",
                "summary(ca.jo(LDatos, type = \"trace\", ecdet = \"const\", K = 2, spec = \"longrun\"))\n",
                "\n",
                "summary(ca.jo(LDatos, type = \"trace\", ecdet = \"none\", K = 2, spec = \"longrun\"))\n"
            ]
        },
        {
            "cell_type": "markdown",
            "metadata": {},
            "source": [
                "## Prueba basada en el Max Eigen Value:\n",
                "\n"
            ]
        },
        {
            "cell_type": "code",
            "execution_count": null,
            "metadata": {},
            "outputs": [],
            "source": [
                "summary(ca.jo(LDatos, type = \"eigen\", ecdet = \"trend\", K = 2, spec = \"longrun\"))\n",
                "\n",
                "summary(ca.jo(LDatos, type = \"eigen\", ecdet = \"const\", K = 2, spec = \"longrun\"))\n",
                "\n",
                "summary(ca.jo(LDatos, type = \"eigen\", ecdet = \"none\", K = 2, spec = \"longrun\"))\n"
            ]
        },
        {
            "cell_type": "markdown",
            "metadata": {},
            "source": "\n"
        },
        {
            "cell_type": "code",
            "execution_count": null,
            "metadata": {},
            "outputs": [],
            "source": [
                "CA_1 <- ca.jo(LDatos, type = \"trace\", ecdet = \"const\", K = 2, spec = \"longrun\")\n",
                "\n",
                "summary(CA_1)\n"
            ]
        },
        {
            "cell_type": "markdown",
            "metadata": {},
            "source": [
                "# Residuales:\n",
                "\n"
            ]
        },
        {
            "cell_type": "code",
            "execution_count": null,
            "metadata": {},
            "outputs": [],
            "source": [
                "TT <- ts(c(1:259), \n",
                "         start = c(2000, 1), \n",
                "         end = c(2021, 7), \n",
                "         freq = 12)\n"
            ]
        },
        {
            "cell_type": "markdown",
            "metadata": {},
            "source": "\n"
        },
        {
            "cell_type": "code",
            "execution_count": null,
            "metadata": {},
            "outputs": [],
            "source": [
                "U <- LDatos[ , 1] + 0.7559141*LDatos[ , 2] - 0.3623270*LDatos[ , 3] - 5.0035388*LDatos[ , 4] + 4.2690269*LDatos[ , 5] - 3.2113796\n",
                "\n"
            ]
        },
        {
            "cell_type": "markdown",
            "metadata": {},
            "source": "\n"
        },
        {
            "cell_type": "code",
            "execution_count": null,
            "metadata": {},
            "outputs": [],
            "source": [
                "plot(U, \n",
                "     main = \"Residuales de la Ecuación de Cointegración\",\n",
                "     type = \"l\", \n",
                "     col = \"darkred\")\n"
            ]
        },
        {
            "cell_type": "markdown",
            "metadata": {},
            "source": [
                "# Raices Unitarias\n",
                "# NIVELES\n"
            ]
        },
        {
            "cell_type": "code",
            "execution_count": null,
            "metadata": {},
            "outputs": [],
            "source": [
                "summary(ur.df(U, type = \"trend\", lags = 5))\n",
                "\n",
                "summary(ur.df(U, type = \"drift\", lags = 5))\n",
                "\n",
                "summary(ur.df(U, type = \"none\", lags = 5))\n"
            ]
        },
        {
            "cell_type": "markdown",
            "metadata": {},
            "source": "\n"
        },
        {
            "cell_type": "code",
            "execution_count": null,
            "metadata": {},
            "outputs": [],
            "source": [
                "summary(ur.df(DLDatos[, 5], type = \"trend\", lags = 4))\n",
                "\n",
                "summary(ur.df(DLDatos[, 5], type = \"drift\", lags = 4))\n",
                "\n",
                "summary(ur.df(DLDatos[, 5], type = \"none\", lags = 4))\n"
            ]
        },
        {
            "cell_type": "markdown",
            "metadata": {},
            "source": [
                "\n",
                "\n"
            ]
        }
    ],
    "metadata": {
        "anaconda-cloud": "",
        "kernelspec": {
            "display_name": "R",
            "langauge": "R",
            "name": "ir"
        },
        "language_info": {
            "codemirror_mode": "r",
            "file_extension": ".r",
            "mimetype": "text/x-r-source",
            "name": "R",
            "pygments_lexer": "r",
            "version": "3.4.1"
        }
    },
    "nbformat": 4,
    "nbformat_minor": 1
}
