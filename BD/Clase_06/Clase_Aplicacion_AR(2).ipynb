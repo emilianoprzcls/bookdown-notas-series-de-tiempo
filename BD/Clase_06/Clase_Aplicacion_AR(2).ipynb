{
    "cells": [
        {
            "cell_type": "markdown",
            "metadata": {},
            "source": [
                "\n",
                "### Dependencies and Setup\n"
            ]
        },
        {
            "cell_type": "code",
            "execution_count": null,
            "metadata": {},
            "outputs": [],
            "source": [
                "knitr::opts_chunk$set(echo = TRUE)\n",
                "\n",
                "#install.packages(\"ggplot2\")\n",
                "#install.packages(\"dplyr\")\n",
                "#install.packages(\"readxl\")\n",
                "#install.packages(stats)\n",
                "# \n",
                "library(ggplot2)\n",
                "library(dplyr)\n",
                "library(readxl)\n",
                "library(stats)\n"
            ]
        },
        {
            "cell_type": "markdown",
            "metadata": {},
            "source": [
                "# Importamos Datos:\n",
                "\n",
                "Los datos importados son:\n",
                "\n",
                "* Pax_Nal: Pasajeros (Salidas) en vuelos nacionales\n",
                "* Pax_Int: Pasajeros (Salidas) en vuelos internacionales \n",
                "* Vue_Nal: Vuelos u operaciones (Salidas) en vuelos nacionales\n",
                "* Vue_Int: Vuelos u operaciones (Salidas) en vuelos internacionales\n",
                "* Pax_Metro: Pasajeros transportados (Millones) en el SCM\n",
                "\n",
                "Fuente: INEGI, https://www.inegi.org.mx/app/indicadores/?tm=0&t=1090\n"
            ]
        },
        {
            "cell_type": "code",
            "execution_count": null,
            "metadata": {},
            "outputs": [],
            "source": [
                "Datos <- read_excel(\"Base_Transporte.xlsx\", sheet = \"Datos\", col_names = TRUE)\n",
                "\n",
                "head(Datos)\n"
            ]
        },
        {
            "cell_type": "markdown",
            "metadata": {},
            "source": [
                "# Conversion a series de tiempo:\n",
                "\n"
            ]
        },
        {
            "cell_type": "code",
            "execution_count": null,
            "metadata": {},
            "outputs": [],
            "source": [
                "Pax_Nal <- ts(Datos$Pax_Nal, \n",
                "              start = c(2000, 1),\n",
                "              end = c(2021, 7), \n",
                "              freq = 12)\n",
                "\n",
                "# Logaritmos:\n",
                "LPax_Nal <- ts(log(Datos$Pax_Nal), \n",
                "               start = c(2000, 1), \n",
                "               end = c(2021, 7), \n",
                "               freq = 12)\n",
                "\n",
                "# Diferencias mensuales:\n",
                "DLPax_Nal <- ts(log(Datos$Pax_Nal) - lag(log(Datos$Pax_Nal), k = 1),\n",
                "                start = c(2000, 1), freq = 12)\n"
            ]
        },
        {
            "cell_type": "markdown",
            "metadata": {},
            "source": [
                "# Graficas:\n",
                "\n"
            ]
        },
        {
            "cell_type": "code",
            "execution_count": null,
            "metadata": {},
            "outputs": [],
            "source": [
                "par(mfrow=c(3,1))\n",
                "\n",
                "plot(Pax_Nal, xlab = \"Tiempo\", ylab = \"Pasajeros\",\n",
                "     main = \"Pasajeros en vuelos nacionales de salida\",\n",
                "     col = \"darkgreen\")\n",
                "\n",
                "plot(LPax_Nal, xlab = \"Tiempo\", ylab = \"LN Pasajeros\",\n",
                "     main = \"LN Pasajeros en vuelos nacionales de salida\",\n",
                "     col = \"darkblue\")\n",
                "\n",
                "plot(DLPax_Nal, xlab = \"Tiempo\", ylab = \"DLN Pasajeros\",\n",
                "     main = \"Diff LN Pasajeros en vuelos nacionales de salida\", \n",
                "     col = \"darkred\")\n",
                "\n",
                "par(mfrow=c(1,1))\n"
            ]
        },
        {
            "cell_type": "markdown",
            "metadata": {},
            "source": [
                "# Estimacion del proceo AR(2)\n",
                "\n",
                "AR(2) en NIVELES:\n"
            ]
        },
        {
            "cell_type": "code",
            "execution_count": null,
            "metadata": {},
            "outputs": [],
            "source": [
                "AR_LPax_Nal <- arima(LPax_Nal, order = c(2, 0, 0), method = \"ML\")\n",
                "\n",
                "AR_LPax_Nal\n",
                "\n",
                "plot(AR_LPax_Nal$residuals, \n",
                "     xlab = \"Tiempo\", ylab = \"\",\n",
                "     main = \"Residuales del AR (2) para LN de pasajeros en vuelos nacionales de salida\",\n",
                "     col = \"darkgreen\")\n",
                "\n",
                "# AR(2) en DIFERENCIAS:\n",
                "\n",
                "AR_DLPax_Nal <- arima(DLPax_Nal, order = c(2, 0, 0), method = \"ML\")\n",
                "\n",
                "AR_DLPax_Nal\n",
                "\n",
                "plot(AR_DLPax_Nal$residuals, \n",
                "     xlab = \"Tiempo\", ylab = \"\",\n",
                "     main = \"Residuales del AR (2) para DLN \\nde pasajeros en vuelos nacionales de salida\",\n",
                "     col = \"darkred\")\n"
            ]
        },
        {
            "cell_type": "markdown",
            "metadata": {},
            "source": [
                "# Función que extrae las raices del polinomio caracteristico y las grafica\n",
                "\n"
            ]
        },
        {
            "cell_type": "code",
            "execution_count": null,
            "metadata": {},
            "outputs": [],
            "source": [
                "source(\"arroots.R\")\n",
                "\n",
                "source(\"plot.armaroots.R\")\n"
            ]
        },
        {
            "cell_type": "markdown",
            "metadata": {},
            "source": [
                "# Graficas raíces:\n",
                "\n"
            ]
        },
        {
            "cell_type": "code",
            "execution_count": null,
            "metadata": {},
            "outputs": [],
            "source": [
                "par(mfrow=c(1,2))\n",
                "\n",
                "plot.armaroots(arroots(AR_LPax_Nal), \n",
                "               main=\"Inverse AR roots of \\nAR(2): LN Pax Nal\")\n",
                "\n",
                "#\n",
                "plot.armaroots(arroots(AR_DLPax_Nal), \n",
                "               main=\"Inverse AR roots of \\nAR(2): Diff LN Pax Nal\")\n",
                "\n",
                "par(mfrow=c(1,1))\n"
            ]
        },
        {
            "cell_type": "markdown",
            "metadata": {},
            "source": "\n"
        }
    ],
    "metadata": {
        "anaconda-cloud": "",
        "kernelspec": {
            "display_name": "R",
            "langauge": "R",
            "name": "ir"
        },
        "language_info": {
            "codemirror_mode": "r",
            "file_extension": ".r",
            "mimetype": "text/x-r-source",
            "name": "R",
            "pygments_lexer": "r",
            "version": "3.4.1"
        }
    },
    "nbformat": 4,
    "nbformat_minor": 1
}
