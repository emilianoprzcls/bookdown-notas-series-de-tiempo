{
    "cells": [
        {
            "cell_type": "markdown",
            "metadata": {},
            "source": [
                "\n",
                "### Dependencies and Setup\n"
            ]
        },
        {
            "cell_type": "code",
            "execution_count": null,
            "metadata": {},
            "outputs": [],
            "source": [
                "knitr::opts_chunk$set(echo = TRUE)\n",
                "\n",
                "#install.packages(\"ggplot2\")\n",
                "#install.packages(\"dplyr\")\n",
                "#install.packages(stats)\n",
                "#install.packages(\"MASS\")\n",
                "#install.packages(\"strucchange\")\n",
                "#install.packages(\"zoo\")\n",
                "#install.packages(\"sandwich\")\n",
                "#install.packages(\"urca\")\n",
                "#install.packages(\"lmtest\")\n",
                "#install.packages(\"vars\")\n",
                "# \n",
                "library(ggplot2)\n",
                "library(dplyr)\n",
                "library(stats)\n",
                "library(MASS)\n",
                "library(strucchange)\n",
                "library(zoo)\n",
                "library(sandwich)\n",
                "library(urca)\n",
                "library(lmtest)\n",
                "library(vars)\n"
            ]
        },
        {
            "cell_type": "markdown",
            "metadata": {},
            "source": [
                "# Importamos Datos desde un archivo de R:\n",
                "\n",
                "Los datos \"cargados\" son los originales y los ajustados por estacionalidad. Los cuales son:\n",
                "\n",
                "* INPC: Indice Nacional de Precios al Consumidor (2QJul2018 = 100)\n",
                "\n",
                "* TC: Tipo de Cambio FIX \n",
                "\n",
                "* CETE28: Tasa de rendimiento promedio mensual de los Cetes 28, en por ciento anual\n",
                "\n",
                "* IGAE: Indicador global de la actividad económica (2013 = 100)\n",
                "\n",
                "* IPI: Industrial Production Index (2012 = 100)\n"
            ]
        },
        {
            "cell_type": "code",
            "execution_count": null,
            "metadata": {},
            "outputs": [],
            "source": [
                "load(\"Datos_Ad.RData\")\n",
                "\n",
                "head(Datos_Ad)\n"
            ]
        },
        {
            "cell_type": "markdown",
            "metadata": {},
            "source": [
                "## Conversion a series de tiempo:\n",
                "\n"
            ]
        },
        {
            "cell_type": "code",
            "execution_count": null,
            "metadata": {},
            "outputs": [],
            "source": [
                "Datos <- ts(Datos_Ad[7: 11], \n",
                "            start = c(2000, 1), \n",
                "            end = c(2021, 7), \n",
                "            freq = 12)\n",
                "\n",
                "LDatos <- log(Datos)\n",
                "\n",
                "DLDatos <- diff(log(Datos, base = exp(1)), \n",
                "                lag = 1, \n",
                "                differences = 1)\n"
            ]
        },
        {
            "cell_type": "markdown",
            "metadata": {},
            "source": [
                "\n",
                "# Gráficas\n"
            ]
        },
        {
            "cell_type": "code",
            "execution_count": null,
            "metadata": {},
            "outputs": [],
            "source": [
                "plot(LDatos, \n",
                "     plot.type = \"m\", nc = 2,\n",
                "     col = c(\"darkgreen\", \"darkblue\", \"darkred\", \"orange\", \"purple\"), \n",
                "     main = \"Series en Logaritmos\", \n",
                "     xlab = \"Tiempo\")\n",
                "\n",
                "#\n",
                "\n",
                "plot(DLDatos, \n",
                "     plot.type = \"m\", nc = 2,\n",
                "     col = c(\"darkgreen\", \"darkblue\", \"darkred\", \"orange\", \"purple\"), \n",
                "     main = \"Series en Diferencias Logaritmicas\", \n",
                "     xlab = \"Tiempo\")\n",
                "\n",
                "#\n",
                "\n",
                "plot(cbind(LDatos, DLDatos), \n",
                "     plot.type = \"m\", nc = 2,\n",
                "     col = c(\"darkgreen\", \"darkblue\", \"darkred\", \"orange\", \"purple\"), \n",
                "     main = \"Comparacion de Series en Diferencias\", \n",
                "     xlab = \"Tiempo\")\n"
            ]
        },
        {
            "cell_type": "markdown",
            "metadata": {},
            "source": [
                "# Pruebas de Raices Unitarias\n",
                "\n",
                "## ADF: Augmented Dickey - Fuller Test\n",
                "ur.df = function (y, type = c(\"none\", \"drift\", \"trend\"), lags = 1, selectlags = c(\"Fixed\", \"AIC\", \"BIC\")) \n",
                "p = int{4*(T/100)^(1/4)}\n",
                "  = int{4*(234/100)^(1/4)}\n",
                "  = int{5.0744}\n",
                "  = 5\n",
                "\n",
                "### INPC\n",
                "#### NIVELES\n"
            ]
        },
        {
            "cell_type": "code",
            "execution_count": null,
            "metadata": {},
            "outputs": [],
            "source": [
                "summary(ur.df(LDatos[, 1], type = \"trend\", lags = 5))\n",
                "\n",
                "summary(ur.df(LDatos[, 1], type = \"drift\", lags = 5))\n",
                "\n",
                "summary(ur.df(LDatos[, 1], type = \"none\", lags = 5))\n"
            ]
        },
        {
            "cell_type": "markdown",
            "metadata": {},
            "source": [
                "#### DIFERENCIAS\n",
                "\n"
            ]
        },
        {
            "cell_type": "code",
            "execution_count": null,
            "metadata": {},
            "outputs": [],
            "source": [
                "summary(ur.df(DLDatos[, 1], type = \"trend\", lags = 5))\n",
                "\n",
                "summary(ur.df(DLDatos[, 1], type = \"drift\", lags = 5))\n",
                "\n",
                "summary(ur.df(DLDatos[, 1], type = \"none\", lags = 5))\n"
            ]
        },
        {
            "cell_type": "markdown",
            "metadata": {},
            "source": [
                "### Tipo de Cambio\n",
                "#### NIVELES\n"
            ]
        },
        {
            "cell_type": "code",
            "execution_count": null,
            "metadata": {},
            "outputs": [],
            "source": [
                "summary(ur.df(LDatos[, 2], type = \"trend\", lags = 5))\n",
                "\n",
                "summary(ur.df(LDatos[, 2], type = \"drift\", lags = 5))\n",
                "\n",
                "summary(ur.df(LDatos[, 2], type = \"none\", lags = 5))\n"
            ]
        },
        {
            "cell_type": "markdown",
            "metadata": {},
            "source": [
                "#### DIFERENCIAS\n",
                "\n"
            ]
        },
        {
            "cell_type": "code",
            "execution_count": null,
            "metadata": {},
            "outputs": [],
            "source": [
                "summary(ur.df(DLDatos[, 2], type = \"trend\", lags = 5))\n",
                "\n",
                "summary(ur.df(DLDatos[, 2], type = \"drift\", lags = 5))\n",
                "\n",
                "summary(ur.df(DLDatos[, 2], type = \"none\", lags = 5))\n"
            ]
        },
        {
            "cell_type": "markdown",
            "metadata": {},
            "source": [
                "### CETES28\n",
                "#### NIVELES\n"
            ]
        },
        {
            "cell_type": "code",
            "execution_count": null,
            "metadata": {},
            "outputs": [],
            "source": [
                "summary(ur.df(LDatos[, 3], type = \"trend\", lags = 5))\n",
                "\n",
                "summary(ur.df(LDatos[, 3], type = \"drift\", lags = 5))\n",
                "\n",
                "summary(ur.df(LDatos[, 3], type = \"none\", lags = 5))\n"
            ]
        },
        {
            "cell_type": "markdown",
            "metadata": {},
            "source": [
                "#### DIFERENCIAS\n",
                "\n"
            ]
        },
        {
            "cell_type": "code",
            "execution_count": null,
            "metadata": {},
            "outputs": [],
            "source": [
                "summary(ur.df(DLDatos[, 3], type = \"trend\", lags = 5))\n",
                "\n",
                "summary(ur.df(DLDatos[, 3], type = \"drift\", lags = 5))\n",
                "\n",
                "summary(ur.df(DLDatos[, 3], type = \"none\", lags = 5))\n"
            ]
        },
        {
            "cell_type": "markdown",
            "metadata": {},
            "source": [
                "### IGAE\n",
                "#### NIVELES\n"
            ]
        },
        {
            "cell_type": "code",
            "execution_count": null,
            "metadata": {},
            "outputs": [],
            "source": [
                "summary(ur.df(LDatos[, 4], type = \"trend\", lags = 5))\n",
                "\n",
                "summary(ur.df(LDatos[, 4], type = \"drift\", lags = 5))\n",
                "\n",
                "summary(ur.df(LDatos[, 4], type = \"none\", lags = 5))\n"
            ]
        },
        {
            "cell_type": "markdown",
            "metadata": {},
            "source": [
                "#### DIFERENCIAS\n",
                "\n"
            ]
        },
        {
            "cell_type": "code",
            "execution_count": null,
            "metadata": {},
            "outputs": [],
            "source": [
                "summary(ur.df(DLDatos[, 4], type = \"trend\", lags = 5))\n",
                "\n",
                "summary(ur.df(DLDatos[, 4], type = \"drift\", lags = 5))\n",
                "\n",
                "summary(ur.df(DLDatos[, 4], type = \"none\", lags = 5))\n"
            ]
        },
        {
            "cell_type": "markdown",
            "metadata": {},
            "source": [
                "### IPI\n",
                "#### NIVELES\n"
            ]
        },
        {
            "cell_type": "code",
            "execution_count": null,
            "metadata": {},
            "outputs": [],
            "source": [
                "summary(ur.df(LDatos[, 5], type = \"trend\", lags = 5))\n",
                "\n",
                "summary(ur.df(LDatos[, 5], type = \"drift\", lags = 5))\n",
                "\n",
                "summary(ur.df(LDatos[, 5], type = \"none\", lags = 5))\n"
            ]
        },
        {
            "cell_type": "markdown",
            "metadata": {},
            "source": [
                "#### DIFERENCIAS\n",
                "\n"
            ]
        },
        {
            "cell_type": "code",
            "execution_count": null,
            "metadata": {},
            "outputs": [],
            "source": [
                "summary(ur.df(DLDatos[, 5], type = \"trend\", lags = 5))\n",
                "\n",
                "summary(ur.df(DLDatos[, 5], type = \"drift\", lags = 5))\n",
                "\n",
                "summary(ur.df(DLDatos[, 5], type = \"none\", lags = 5))\n"
            ]
        },
        {
            "cell_type": "markdown",
            "metadata": {},
            "source": [
                "# VAR(p):\n",
                "function (y, p = 1, \n",
                "type = c(\"const\", \"trend\", \"both\", \"none\"), \n",
                "season = NULL, exogen = NULL, lag.max = NULL, \n",
                "ic = c(\"AIC\", \"HQ\", \"SC\", \"FPE\"))\n",
                "\n",
                "## VAR(p) Seleccion:\n"
            ]
        },
        {
            "cell_type": "code",
            "execution_count": null,
            "metadata": {},
            "outputs": [],
            "source": [
                "VARselect(LDatos, lag.max = 10, type = \"both\")\n",
                "\n",
                "VARselect(LDatos, lag.max = 10, type = \"trend\")\n",
                "\n",
                "VARselect(LDatos, lag.max = 10, type = \"const\")\n",
                "\n",
                "VARselect(LDatos, lag.max = 10, type = \"none\")\n"
            ]
        },
        {
            "cell_type": "markdown",
            "metadata": {},
            "source": [
                "## VAR Estimacion:\n",
                "\n"
            ]
        },
        {
            "cell_type": "code",
            "execution_count": null,
            "metadata": {},
            "outputs": [],
            "source": [
                "VAR_1 <- VAR(LDatos, p = 2, type = \"both\")\n",
                "\n",
                "summary(VAR_1)\n",
                "\n",
                "#plot(VAR_1, names = \"INPC_Ad\")\n",
                "\n",
                "#plot(VAR_1, names = \"TC_Ad\")\n",
                "\n",
                "#plot(VAR_1, names = \"CETE28_Ad\")\n",
                "\n",
                "#plot(VAR_1, names = \"IGAE_Ad\")\n",
                "\n",
                "#plot(VAR_1, names = \"IPI_Ad\")\n"
            ]
        },
        {
            "cell_type": "markdown",
            "metadata": {},
            "source": [
                "# Cointegration Test:\n",
                "ca.jo = function (x, type = c(\"eigen\", \"trace\"), ecdet = c(\"none\", \"const\", \n",
                "\"trend\"), K = 2, spec = c(\"longrun\", \"transitory\"), season = NULL, \n",
                "dumvar = NULL) \n"
            ]
        },
        {
            "cell_type": "code",
            "execution_count": null,
            "metadata": {},
            "outputs": [],
            "source": [
                "summary(ca.jo(LDatos, type = \"trace\", ecdet = \"trend\", K = 2, spec = \"longrun\"))\n",
                "\n"
            ]
        },
        {
            "cell_type": "markdown",
            "metadata": {},
            "source": "\n"
        },
        {
            "cell_type": "code",
            "execution_count": null,
            "metadata": {},
            "outputs": [],
            "source": [
                "summary(ca.jo(LDatos, type = \"trace\", ecdet = \"const\", K = 2, spec = \"longrun\"))\n",
                "\n"
            ]
        },
        {
            "cell_type": "markdown",
            "metadata": {},
            "source": "\n"
        },
        {
            "cell_type": "code",
            "execution_count": null,
            "metadata": {},
            "outputs": [],
            "source": [
                "summary(ca.jo(LDatos, type = \"trace\", ecdet = \"none\", K = 2, spec = \"longrun\"))\n",
                "\n"
            ]
        },
        {
            "cell_type": "markdown",
            "metadata": {},
            "source": "\n"
        },
        {
            "cell_type": "code",
            "execution_count": null,
            "metadata": {},
            "outputs": [],
            "source": [
                "CA_1 <- ca.jo(LDatos, type = \"trace\", ecdet = \"const\", K = 3, spec = \"longrun\")\n",
                "\n",
                "summary(CA_1)\n"
            ]
        }
    ],
    "metadata": {
        "anaconda-cloud": "",
        "kernelspec": {
            "display_name": "R",
            "langauge": "R",
            "name": "ir"
        },
        "language_info": {
            "codemirror_mode": "r",
            "file_extension": ".r",
            "mimetype": "text/x-r-source",
            "name": "R",
            "pygments_lexer": "r",
            "version": "3.4.1"
        }
    },
    "nbformat": 4,
    "nbformat_minor": 1
}
