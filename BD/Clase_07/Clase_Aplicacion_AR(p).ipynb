{
    "cells": [
        {
            "cell_type": "markdown",
            "metadata": {},
            "source": [
                "\n",
                "### Dependencies and Setup\n"
            ]
        },
        {
            "cell_type": "code",
            "execution_count": null,
            "metadata": {},
            "outputs": [],
            "source": [
                "knitr::opts_chunk$set(echo = TRUE)\n",
                "\n",
                "#install.packages(\"ggplot2\")\n",
                "#install.packages(\"dplyr\")\n",
                "#install.packages(\"readxl\")\n",
                "#install.packages(stats)\n",
                "# \n",
                "library(ggplot2)\n",
                "library(dplyr)\n",
                "library(readxl)\n",
                "library(stats)\n"
            ]
        },
        {
            "cell_type": "markdown",
            "metadata": {},
            "source": [
                "# Importamos Datos:\n",
                "\n",
                "Los datos importados son:\n",
                "\n",
                "* Pax_Nal: Pasajeros (Salidas) en vuelos nacionales\n",
                "* Pax_Int: Pasajeros (Salidas) en vuelos internacionales \n",
                "* Vue_Nal: Vuelos u operaciones (Salidas) en vuelos nacionales\n",
                "* Vue_Int: Vuelos u operaciones (Salidas) en vuelos internacionales\n",
                "* Pax_Metro: Pasajeros transportados (Millones) en el SCM\n",
                "\n",
                "Fuente: INEGI, https://www.inegi.org.mx/app/indicadores/?tm=0&t=1090\n"
            ]
        },
        {
            "cell_type": "code",
            "execution_count": null,
            "metadata": {},
            "outputs": [],
            "source": [
                "Datos <- read_excel(\"Base_Transporte.xlsx\", sheet = \"Datos\", col_names = TRUE)\n",
                "\n",
                "head(Datos)\n"
            ]
        },
        {
            "cell_type": "markdown",
            "metadata": {},
            "source": [
                "# Funciones que extrae y grafica las raices del polinomio caracteristico\n",
                "\n"
            ]
        },
        {
            "cell_type": "code",
            "execution_count": null,
            "metadata": {},
            "outputs": [],
            "source": [
                "source(\"arroots.R\")\n",
                "\n",
                "source(\"plot.armaroots.R\")\n"
            ]
        },
        {
            "cell_type": "markdown",
            "metadata": {},
            "source": [
                "# Conversion a series de tiempo:\n",
                "\n"
            ]
        },
        {
            "cell_type": "code",
            "execution_count": null,
            "metadata": {},
            "outputs": [],
            "source": [
                "Pax_Int <- ts(Datos$Pax_Int, \n",
                "              start = c(2000, 1), \n",
                "              freq = 12)\n",
                "\n",
                "# Logaritmos:\n",
                "LPax_Int <- ts(log(Datos$Pax_Int), \n",
                "               start = c(2000, 1), \n",
                "               freq = 12)\n",
                "\n",
                "# Diferencias mensuales:\n",
                "DLPax_Int <- ts(log(Datos$Pax_Int) - lag(log(Datos$Pax_Int), k = 1),\n",
                "                start = c(2000, 1), \n",
                "                freq = 12)\n"
            ]
        },
        {
            "cell_type": "markdown",
            "metadata": {},
            "source": [
                "# Graficas:\n",
                "\n"
            ]
        },
        {
            "cell_type": "code",
            "execution_count": null,
            "metadata": {},
            "outputs": [],
            "source": [
                "par(mfrow=c(3,1))\n",
                "\n",
                "plot(Pax_Int, xlab = \"Tiempo\", ylab = \"Pasajeros\",\n",
                "     main = \"Pasajeros en vuelos internacionales de salida\",\n",
                "     col = \"darkgreen\")\n",
                "\n",
                "plot(LPax_Int, xlab = \"Tiempo\", ylab = \"LN Pasajeros\",\n",
                "     main = \"LN Pasajeros en vuelos internacionales de salida\",\n",
                "     col = \"darkblue\")\n",
                "\n",
                "plot(DLPax_Int, xlab = \"Tiempo\", ylab = \"DLN Pasajeros\",\n",
                "     main = \"Diff LN Pasajeros en vuelos internacionales de salia\", \n",
                "     col = \"darkred\")\n",
                "\n",
                "par(mfrow=c(1,1))\n"
            ]
        },
        {
            "cell_type": "markdown",
            "metadata": {},
            "source": [
                "# Estimacion del proceo AR(p)\n",
                "\n"
            ]
        },
        {
            "cell_type": "code",
            "execution_count": null,
            "metadata": {},
            "outputs": [],
            "source": [
                "# AR(p) en NIVELES:\n",
                "\n",
                "AR_LPax_Int <- arima(LPax_Int, order = c(4, 0, 0), method = \"ML\")\n",
                "\n",
                "AR_LPax_Int\n",
                "\n",
                "plot(AR_LPax_Int$residuals)\n",
                "\n",
                "plot.armaroots(arroots(AR_LPax_Int), \n",
                "               main=\"Inverse AR roots of \\nAR(p): LN PAx Int\")\n",
                "\n",
                "# AR(p) en DIFERENCIAS:\n",
                "\n",
                "AR_DLPax_Int <- arima(DLPax_Int, order = c(4, 0, 0), method = \"ML\")\n",
                "\n",
                "AR_DLPax_Int\n",
                "\n",
                "plot(AR_DLPax_Int$residuals, xlab = \"Tiempo\", ylab = \"DLN Pasajeros\",\n",
                "     main = \"Residuales de un AR(4) para pasajeros en vuelos internacionales de salida\",\n",
                "     col = \"darkblue\")\n",
                "\n",
                "plot.armaroots(arroots(AR_DLPax_Int), \n",
                "               main=\"Inverse AR roots of \\nAR(p): Diff LN PAx Int\")\n"
            ]
        },
        {
            "cell_type": "markdown",
            "metadata": {},
            "source": [
                "# # Función de Autocorrelación Parcial\n",
                "\n"
            ]
        },
        {
            "cell_type": "code",
            "execution_count": null,
            "metadata": {},
            "outputs": [],
            "source": [
                "pacf(LPax_Int[1:234], lag.max = 14,\n",
                "     main = \"Función de Autocorrelación Parcial de pasajeros en vuelos internacionales de salida\",\n",
                "     xlab = 'Rezagos en k meses')\n",
                "\n",
                "pacf(DLPax_Int[2:234], lag.max = 14, \n",
                "     main = \"Función de Autocorrelación Parcial de pasajeros en vuelos internacionales de salida\",\n",
                "     xlab = 'Rezagos en k meses')\n"
            ]
        },
        {
            "cell_type": "markdown",
            "metadata": {},
            "source": "\n"
        }
    ],
    "metadata": {
        "anaconda-cloud": "",
        "kernelspec": {
            "display_name": "R",
            "langauge": "R",
            "name": "ir"
        },
        "language_info": {
            "codemirror_mode": "r",
            "file_extension": ".r",
            "mimetype": "text/x-r-source",
            "name": "R",
            "pygments_lexer": "r",
            "version": "3.4.1"
        }
    },
    "nbformat": 4,
    "nbformat_minor": 1
}
