{
    "cells": [
        {
            "cell_type": "markdown",
            "metadata": {},
            "source": [
                "\n",
                "### Dependencies and Setup\n"
            ]
        },
        {
            "cell_type": "code",
            "execution_count": null,
            "metadata": {},
            "outputs": [],
            "source": [
                "knitr::opts_chunk$set(echo = TRUE)\n",
                "\n",
                "#install.packages(\"ggplot2\")\n",
                "#install.packages(\"dplyr\")\n",
                "#install.packages(\"readxl\")\n",
                "#install.packages(stats)\n",
                "#install.packages(\"forecast\")\n",
                "#install.packages(\"lubridate\")\n",
                "# \n",
                "library(ggplot2)\n",
                "library(dplyr)\n",
                "library(readxl)\n",
                "library(stats)\n",
                "library(forecast)\n",
                "library(lubridate)\n"
            ]
        },
        {
            "cell_type": "markdown",
            "metadata": {},
            "source": [
                "# Importamos Datos:\n",
                "\n",
                "Los datos importados son:\n",
                "\n",
                "* Pax_Nal: Pasajeros (Salidas) en vuelos nacionales\n",
                "* Pax_Int: Pasajeros (Salidas) en vuelos internacionales \n",
                "* Vue_Nal: Vuelos u operaciones (Salidas) en vuelos nacionales\n",
                "* Vue_Int: Vuelos u operaciones (Salidas) en vuelos internacionales\n",
                "* Pax_Metro: Pasajeros transportados (Millones) en el SCM\n",
                "* D_Sep2017: Dummy que toma el valor de 1 en septiembre de 2017\n",
                "* D_Oct2017: Dummy que toma el valor de 1 en octubre de 2017\n",
                "* D_Feb2020: Dummy que toma el valor de 1 en febrero de 2020\n",
                "* D_Mar2020: Dummy que toma el valor de 1 en marzo de 2020\n",
                "* D_Abr2020: Dummy que toma el valor de 1 en abril de 2020\n",
                "* D_May2020: Dummy que toma el valor de 1 en mayo de 2020\n",
                "* D_Jun2020: Dummy que toma el valor de 1 en junio de 2020\n",
                "* D_Jul2020: Dummy que toma el valor de 1 en julio de 2020\n",
                "* D_Ene2021: Dummy que toma el valor de 1 en enero de 2021\n",
                "* D_Mar2021: Dummy que toma el valor de 1 en marzo de 2021\n",
                "* D_Ene: Dummy que toma el valor de 1 en todos los eneros\n",
                "* D_Dic: Dummy que toma el valor de 1 en todos los diciembres\n",
                "\n",
                "Fuente: INEGI, https://www.inegi.org.mx/app/indicadores/?tm=0&t=1090\n"
            ]
        },
        {
            "cell_type": "code",
            "execution_count": null,
            "metadata": {},
            "outputs": [],
            "source": [
                "Datos <- read_excel(\"Base_Transporte_ARIMA.xlsx\", sheet = \"Datos\", col_names = TRUE)\n",
                "\n",
                "head(Datos)\n"
            ]
        },
        {
            "cell_type": "markdown",
            "metadata": {},
            "source": [
                "# Funciones que extrae y grafica las raices del polinomio caracteristico\n",
                "\n"
            ]
        },
        {
            "cell_type": "code",
            "execution_count": null,
            "metadata": {},
            "outputs": [],
            "source": [
                "source(\"arroots.R\")\n",
                "source(\"maroots.R\")\n",
                "source(\"plot.armaroots.R\")\n"
            ]
        },
        {
            "cell_type": "markdown",
            "metadata": {},
            "source": [
                "# Conversion a series de tiempo:\n",
                "\n"
            ]
        },
        {
            "cell_type": "code",
            "execution_count": null,
            "metadata": {},
            "outputs": [],
            "source": [
                "Pax_Nal <- ts(Datos$Pax_Nal, \n",
                "              start = c(2000, 1), \n",
                "              freq = 12)\n",
                "\n",
                "LPax_Nal <- ts(log(Datos$Pax_Nal), \n",
                "               start = c(2000, 1), \n",
                "               freq = 12)\n",
                "\n",
                "DLPax_Nal <- ts(log(Datos$Pax_Nal) - lag(log(Datos$Pax_Nal), k = 1),\n",
                "                start = c(2000, 1), \n",
                "                freq = 12)\n",
                "\n",
                "DLPax_Nal_S <- diff(DLPax_Nal, 12)\n",
                "\n",
                "D_Feb2020\t<- ts(Datos$D_Feb2020,\n",
                "                start = c(2000, 1), \n",
                "                freq = 12)\n",
                "\n",
                "D_Mar2020\t<- ts(Datos$D_Mar2020, \n",
                "                start = c(2000, 1), \n",
                "                freq = 12)\n",
                "\n",
                "D_Abr2020\t<- ts(Datos$D_Abr2020, \n",
                "                start = c(2000, 1), \n",
                "                freq = 12)\n",
                "\n",
                "D_May2020\t<- ts(Datos$D_May2020, \n",
                "                start = c(2000, 1), \n",
                "                freq = 12)\n",
                "\n",
                "D_Jun2020\t<- ts(Datos$D_Jun2020, \n",
                "                start = c(2000, 1), \n",
                "                freq = 12)\n",
                "\n",
                "D_Jul2020 <- ts(Datos$D_Jul2020, \n",
                "                start = c(2000, 1), \n",
                "                freq = 12)\n",
                "\n",
                "D_Ene2021 <- ts(Datos$D_Ene2021, \n",
                "                start = c(2000, 1), \n",
                "                freq = 12)\n",
                "\n",
                "D_Mar2021 <- ts(Datos$D_Mar2021, \n",
                "                start = c(2000, 1), \n",
                "                freq = 12)\n",
                "\n",
                "D_Ene <- ts(Datos$D_Ene, \n",
                "            start = c(2000, 1), \n",
                "            freq = 12)\n",
                "\n",
                "D_Feb <- ts(Datos$D_Feb, \n",
                "            start = c(2000, 1), \n",
                "            freq = 12)\n",
                "\n",
                "D_Jul <- ts(Datos$D_Jul, \n",
                "            start = c(2000, 1), \n",
                "            freq = 12)\n",
                "\n",
                "D_Dic <- ts(Datos$D_Dic, \n",
                "            start = c(2000, 1), \n",
                "            freq = 12)\n"
            ]
        },
        {
            "cell_type": "markdown",
            "metadata": {},
            "source": [
                "# Graficas:\n",
                "\n"
            ]
        },
        {
            "cell_type": "code",
            "execution_count": null,
            "metadata": {},
            "outputs": [],
            "source": [
                "par(mfrow=c(3,1))\n",
                "\n",
                "plot(Pax_Nal, xlab = \"Tiempo\", ylab = \"Pasajeros\",\n",
                "     main = \"Pasajeros en vuelos nacionales de salida\",\n",
                "     col = \"darkgreen\")\n",
                "\n",
                "plot(LPax_Nal, xlab = \"Tiempo\", ylab = \"LN Pasajeros\", \n",
                "     main = \"LN Pasajeros en vuelos nacionales de salida\",\n",
                "     col = \"darkblue\")\n",
                "\n",
                "plot(DLPax_Nal, xlab = \"Tiempo\",  ylab = \"DLN Pasajeros\",\n",
                "     main = \"Diff LN Pasajeros en vuelos nacionales de salida\", \n",
                "     col = \"darkred\")\n",
                "\n",
                "par(mfrow=c(1,1))\n"
            ]
        },
        {
            "cell_type": "markdown",
            "metadata": {},
            "source": [
                "# Visualizar estacionalidad\n",
                "\n"
            ]
        },
        {
            "cell_type": "code",
            "execution_count": null,
            "metadata": {},
            "outputs": [],
            "source": [
                "boxplot(DLPax_Nal ~ month(Datos$Periodo), \n",
                "        xlab= \"Mes\", \n",
                "        main = \"Crecimiento mensual respecto al mes anterior\")\n",
                "points(DLPax_Nal ~ month(Datos$Periodo), col = \"darkblue\")\n",
                "abline(h = 0, col = \"darkred\")\n"
            ]
        },
        {
            "cell_type": "markdown",
            "metadata": {},
            "source": [
                "\n",
                "\n"
            ]
        },
        {
            "cell_type": "code",
            "execution_count": null,
            "metadata": {},
            "outputs": [],
            "source": [
                "boxplot(DLPax_Nal_S ~ month(Datos$Periodo[-c(1:12)]), \n",
                "        xlab= \"Mes\", \n",
                "        main = \"Crecimiento mensual respecto al mes equivalente del año anterior\")\n",
                "points(DLPax_Nal_S ~ month(Datos$Periodo)[-c(1:12)], col = \"darkblue\")\n",
                "abline(h = 0, col = \"darkred\")\n"
            ]
        },
        {
            "cell_type": "markdown",
            "metadata": {},
            "source": [
                "\n",
                "\n"
            ]
        },
        {
            "cell_type": "code",
            "execution_count": null,
            "metadata": {},
            "outputs": [],
            "source": [
                "par(mfrow=c(2,1))\n",
                "\n",
                "plot(DLPax_Nal, xlab = \"Tiempo\", ylab = \"LN Pasajeros\", \n",
                "     main = \"LN Pasajeros en vuelos nacionales de salida\",\n",
                "     col = \"darkblue\")\n",
                "\n",
                "\n",
                "plot(diff(DLPax_Nal,12), xlab = \"Tiempo\",  ylab = \"SDLN Pasajeros\",\n",
                "     main = \"Seasonal Diff LN Pasajeros en vuelos nacionales de salida\", \n",
                "     col = \"darkred\")\n",
                "\n",
                "par(mfrow=c(1,1))\n"
            ]
        },
        {
            "cell_type": "markdown",
            "metadata": {},
            "source": [
                "# Funciones que determinan el rezago optimo (que minimiza el criterio de Akaike)\n",
                "\n"
            ]
        },
        {
            "cell_type": "code",
            "execution_count": null,
            "metadata": {},
            "outputs": [],
            "source": [
                "source(\"Lag_Opt_ARIMA_Exog.R\")\n",
                "source(\"Lag_Opt_SARIMA_Exog.R\")\n"
            ]
        },
        {
            "cell_type": "markdown",
            "metadata": {},
            "source": [
                "# ARIMA Optimo\n",
                "\n"
            ]
        },
        {
            "cell_type": "code",
            "execution_count": null,
            "metadata": {},
            "outputs": [],
            "source": [
                "dumm_ARIMA = cbind(D_Ene, D_Feb, D_Jul, D_Dic, D_Mar2020, D_Abr2020, D_Jun2020, D_Jul2020, D_Mar2021)\n",
                "\n",
                "Lag_Opt_ARIMA_Exog(p_max = 6, q_max = 6, \n",
                "                   X_t = DLPax_Nal, \n",
                "                   Ex = 1,\n",
                "                   Z_t = dumm_ARIMA)\n"
            ]
        },
        {
            "cell_type": "markdown",
            "metadata": {},
            "source": [
                "\n",
                "\n"
            ]
        },
        {
            "cell_type": "code",
            "execution_count": null,
            "metadata": {},
            "outputs": [],
            "source": [
                "ARIMA_Ex_DLPax_Nal <- arima(DLPax_Nal, c(6,0,6), \n",
                "                            xreg=dumm_ARIMA,\n",
                "                            method = \"ML\")\n",
                "\n",
                "ARIMA_Ex_DLPax_Nal\n",
                "\n",
                "par(mfrow=c(1,2))\n",
                "plot.armaroots(arroots(ARIMA_Ex_DLPax_Nal), \n",
                "               main=\"Inverse AR roots of \\nAR(p): LN PAx Nal\")\n",
                "plot.armaroots(maroots(ARIMA_Ex_DLPax_Nal), \n",
                "               main=\"Inverse AR roots of \\nAR(p): LN PAx Nal\")\n",
                "par(mfrow=c(1,1))\n",
                "acf(ARIMA_Ex_DLPax_Nal$residuals, na.action = na.pass)\n",
                "\n",
                "plot(ARIMA_Ex_DLPax_Nal$residuals)\n"
            ]
        },
        {
            "cell_type": "markdown",
            "metadata": {},
            "source": [
                "# SARIMA optimo\n",
                "\n"
            ]
        },
        {
            "cell_type": "code",
            "execution_count": null,
            "metadata": {},
            "outputs": [],
            "source": [
                "dumm_SARIMA <-cbind(D_Mar2020[-c(1:12)], D_Abr2020[-c(1:12)], D_Jun2020[-c(1:12)], D_Jul2020[-c(1:12)], D_Mar2021[-c(1:12)])\n",
                "\n",
                "Lag_Opt_SARIMA_Exog(p_max = 4, q_max = 4,\n",
                "                    P_max = 0, Q_max = 2,\n",
                "                   X_t = DLPax_Nal_S,\n",
                "                   Ex = 0)\n",
                "\n",
                "Lag_Opt_SARIMA_Exog(p_max = 4, q_max = 4, \n",
                "                    P_max = 0, Q_max = 2,\n",
                "                    X_t = DLPax_Nal_S, \n",
                "                    Ex = 1,\n",
                "                    Z_t = dumm_SARIMA)\n"
            ]
        },
        {
            "cell_type": "markdown",
            "metadata": {},
            "source": [
                "\n",
                "\n"
            ]
        },
        {
            "cell_type": "code",
            "execution_count": null,
            "metadata": {},
            "outputs": [],
            "source": [
                "SARIMA_Ex_DLPax_Nal <- arima(DLPax_Nal_S, order = c(1, 0, 4),\n",
                "                             seasonal = c(0, 0, 2),\n",
                "                           xreg = dumm_SARIMA,\n",
                "                           method = \"ML\")\n",
                "\n",
                "SARIMA_Ex_DLPax_Nal\n",
                "\n",
                "par(mfrow=c(1,2))\n",
                "plot.armaroots(arroots(SARIMA_Ex_DLPax_Nal), \n",
                "               main=\"Inverse AR roots of \\nAR(p): LN PAx Nal\")\n",
                "plot.armaroots(maroots(SARIMA_Ex_DLPax_Nal), \n",
                "               main=\"Inverse AR roots of \\nAR(p): LN PAx Nal\")\n",
                "par(mfrow=c(1,1))\n",
                "\n",
                "acf(SARIMA_Ex_DLPax_Nal$residuals, na.action = na.pass)\n",
                "\n",
                "plot(SARIMA_Ex_DLPax_Nal$residuals)\n"
            ]
        },
        {
            "cell_type": "markdown",
            "metadata": {},
            "source": [
                "# ARIMA auto.arima():\n",
                "\n"
            ]
        },
        {
            "cell_type": "code",
            "execution_count": null,
            "metadata": {},
            "outputs": [],
            "source": [
                "?auto.arima\n",
                "#auto.arima\n"
            ]
        },
        {
            "cell_type": "markdown",
            "metadata": {},
            "source": [
                "Implementación ARIMA:\n",
                "\n"
            ]
        },
        {
            "cell_type": "code",
            "execution_count": null,
            "metadata": {},
            "outputs": [],
            "source": [
                "ARIMA_model = auto.arima(DLPax_Nal,\n",
                "                         xreg = dumm_ARIMA, \n",
                "                         seasonal = FALSE)\n",
                "\n",
                "ARIMA_model\n",
                "\n",
                "#\n",
                "plot(ARIMA_model)\n",
                "autoplot(ARIMA_model)\n",
                "checkresiduals(ARIMA_model)\n"
            ]
        },
        {
            "cell_type": "markdown",
            "metadata": {},
            "source": [
                "Implementación SARIMA:\n",
                "\n"
            ]
        },
        {
            "cell_type": "code",
            "execution_count": null,
            "metadata": {},
            "outputs": [],
            "source": [
                "SARIMA_model = auto.arima(DLPax_Nal_S, xreg =dumm_SARIMA)\n",
                "\n",
                "SARIMA_model\n",
                "\n",
                "autoplot(SARIMA_model)\n"
            ]
        },
        {
            "cell_type": "markdown",
            "metadata": {},
            "source": [
                "\n",
                "\n"
            ]
        },
        {
            "cell_type": "code",
            "execution_count": null,
            "metadata": {},
            "outputs": [],
            "source": [
                "dumm_SARIMA <-cbind(D_Mar2020, D_Abr2020, D_Jun2020, D_Jul2020, D_Mar2021)\n",
                "\n",
                "SARIMA_model2= auto.arima(LPax_Nal, xreg = dumm_SARIMA)\n",
                "\n",
                "SARIMA_model2\n",
                "\n",
                "autoplot(SARIMA_model2)\n",
                "\n",
                "checkresiduals(SARIMA_model2)\n",
                "\n",
                "plot(SARIMA_model2$residuals)\n",
                "\n",
                "plot(ARIMA_model$residuals, col = \"blue\")\n",
                "lines(SARIMA_model2$residuals)\n",
                "\n",
                "plot(SARIMA_model$residuals)\n",
                "lines(SARIMA_model2$residuals, col='red')\n"
            ]
        },
        {
            "cell_type": "markdown",
            "metadata": {},
            "source": [
                "\n",
                "\n"
            ]
        }
    ],
    "metadata": {
        "anaconda-cloud": "",
        "kernelspec": {
            "display_name": "R",
            "langauge": "R",
            "name": "ir"
        },
        "language_info": {
            "codemirror_mode": "r",
            "file_extension": ".r",
            "mimetype": "text/x-r-source",
            "name": "R",
            "pygments_lexer": "r",
            "version": "3.4.1"
        }
    },
    "nbformat": 4,
    "nbformat_minor": 1
}
