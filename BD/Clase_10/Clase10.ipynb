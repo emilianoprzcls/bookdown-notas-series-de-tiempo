{
    "cells": [
        {
            "cell_type": "markdown",
            "metadata": {},
            "source": [
                "\n",
                "### Dependencies and Setup\n"
            ]
        },
        {
            "cell_type": "code",
            "execution_count": null,
            "metadata": {},
            "outputs": [],
            "source": [
                "knitr::opts_chunk$set(echo = TRUE)\n",
                "\n",
                "#install.packages(\"ggplot2\")\n",
                "#install.packages(\"dplyr\")\n",
                "#install.packages(\"readxl\")\n",
                "#install.packages(stats)\n",
                "# \n",
                "library(ggplot2)\n",
                "library(dplyr)\n",
                "library(readxl)\n",
                "library(stats)\n"
            ]
        },
        {
            "cell_type": "markdown",
            "metadata": {},
            "source": [
                "# Importamos Datos:\n",
                "\n",
                "Los datos importados son:\n",
                "\n",
                "* Pax_Nal: Pasajeros (Salidas) en vuelos nacionales\n",
                "* Pax_Int: Pasajeros (Salidas) en vuelos internacionales \n",
                "* Vue_Nal: Vuelos u operaciones (Salidas) en vuelos nacionales\n",
                "* Vue_Int: Vuelos u operaciones (Salidas) en vuelos internacionales\n",
                "* Pax_Metro: Pasajeros transportados (Millones) en el SCM\n",
                "* D_Sep2017: Dummy que toma el valor de 1 en septiembre de 2017\n",
                "* D_Oct2017: Dummy que toma el valor de 1 en octubre de 2017\n",
                "* D_Feb2020: Dummy que toma el valor de 1 en febrero de 2020\n",
                "* D_Mar2020: Dummy que toma el valor de 1 en marzo de 2020\n",
                "* D_Abr2020: Dummy que toma el valor de 1 en abril de 2020\n",
                "* D_May2020: Dummy que toma el valor de 1 en mayo de 2020\n",
                "* D_Jun2020: Dummy que toma el valor de 1 en junio de 2020\n",
                "* D_Jul2020: Dummy que toma el valor de 1 en julio de 2020\n",
                "* D_Ene2021: Dummy que toma el valor de 1 en enero de 2021\n",
                "* D_Mar2021: Dummy que toma el valor de 1 en marzo de 2021\n",
                "* D_Ene: Dummy que toma el valor de 1 en todos los eneros\n",
                "* D_Dic: Dummy que toma el valor de 1 en todos los diciembres\n",
                "\n",
                "Fuente: INEGI, https://www.inegi.org.mx/app/indicadores/?tm=0&t=1090\n"
            ]
        },
        {
            "cell_type": "code",
            "execution_count": null,
            "metadata": {},
            "outputs": [],
            "source": [
                "Datos <- read_excel(\"Base_Transporte_ARIMA.xlsx\", sheet = \"Datos\", col_names = TRUE)\n",
                "\n",
                "head(Datos)\n"
            ]
        },
        {
            "cell_type": "markdown",
            "metadata": {},
            "source": [
                "# Conversion a series de tiempo:\n",
                "\n"
            ]
        },
        {
            "cell_type": "code",
            "execution_count": null,
            "metadata": {},
            "outputs": [],
            "source": [
                "Pax_Nal <- ts(Datos$Pax_Nal, \n",
                "              start = c(2000, 1), \n",
                "              freq = 12)\n",
                "\n",
                "LPax_Nal <- ts(log(Datos$Pax_Nal), \n",
                "               start = c(2000, 1), \n",
                "               freq = 12)\n",
                "\n",
                "DLPax_Nal <- ts(log(Datos$Pax_Nal) - lag(log(Datos$Pax_Nal), k = 1),\n",
                "                start = c(2000, 1), \n",
                "                freq = 12)\n",
                "\n",
                "D_Mar2020\t<- ts(Datos$D_Mar2020, \n",
                "                start = c(2000, 1), \n",
                "                freq = 12)\n",
                "\n",
                "D_Abr2020\t<- ts(Datos$D_Abr2020, \n",
                "                start = c(2000, 1), \n",
                "                freq = 12)\n",
                "\n",
                "D_Jun2020\t<- ts(Datos$D_Jun2020, \n",
                "                start = c(2000, 1), \n",
                "                freq = 12)\n",
                "\n",
                "D_Jul2020 <- ts(Datos$D_Jul2020, \n",
                "                start = c(2000, 1), \n",
                "                freq = 12)\n",
                "\n",
                "D_Mar2021 <- ts(Datos$D_Mar2021, \n",
                "                start = c(2000, 1), \n",
                "                freq = 12)\n",
                "\n",
                "D_Ene <- ts(Datos$D_Ene, \n",
                "            start = c(2000, 1), \n",
                "            freq = 12)\n",
                "\n",
                "D_Feb <- ts(Datos$D_Feb, \n",
                "            start = c(2000, 1), \n",
                "            freq = 12)\n",
                "\n",
                "D_Jul <- ts(Datos$D_Jul, \n",
                "            start = c(2000, 1), \n",
                "            freq = 12)\n",
                "\n",
                "D_Dic <- ts(Datos$D_Dic, \n",
                "            start = c(2000, 1), \n",
                "            freq = 12)\n"
            ]
        },
        {
            "cell_type": "markdown",
            "metadata": {},
            "source": [
                "# Graficas:\n",
                "\n"
            ]
        },
        {
            "cell_type": "code",
            "execution_count": null,
            "metadata": {},
            "outputs": [],
            "source": [
                "par(mfrow=c(3,1))\n",
                "\n",
                "plot(Pax_Nal, xlab = \"Tiempo\", ylab = \"Pasajeros\",\n",
                "     main = \"Pasajeros en vuelos nacionales de salida\",\n",
                "     col = \"darkgreen\")\n",
                "\n",
                "plot(LPax_Nal, xlab = \"Tiempo\", ylab = \"LN Pasajeros\", \n",
                "     main = \"LN Pasajeros en vuelos nacionales de salida\",\n",
                "     col = \"darkblue\")\n",
                "\n",
                "plot(DLPax_Nal, xlab = \"Tiempo\",  ylab = \"DLN Pasajeros\",\n",
                "     main = \"Diff LN Pasajeros en vuelos nacionales de salida\", \n",
                "     col = \"darkred\")\n",
                "\n",
                "par(mfrow=c(1,1))\n"
            ]
        },
        {
            "cell_type": "markdown",
            "metadata": {},
            "source": [
                "# Estimacion del proceso ARIMA(p, 1, q):\n",
                "\n"
            ]
        },
        {
            "cell_type": "code",
            "execution_count": null,
            "metadata": {},
            "outputs": [],
            "source": [
                "ARMA_Ex_DLPax_Nal_2 <- arima(DLPax_Nal, order = c(6, 0, 6),\n",
                "                             xreg = cbind(D_Ene, D_Feb, D_Jul, D_Dic, D_Mar2020, D_Abr2020, D_Jun2020, D_Jul2020, D_Mar2021),\n",
                "                             method = \"ML\")\n",
                "\n",
                "ARMA_Ex_DLPax_Nal_2\n"
            ]
        },
        {
            "cell_type": "markdown",
            "metadata": {},
            "source": [
                "# Forecast:\n",
                "\n",
                "Datos Exogenos:\n"
            ]
        },
        {
            "cell_type": "code",
            "execution_count": null,
            "metadata": {},
            "outputs": [],
            "source": [
                "Predict_Datos <- read_excel(\"Predict_Base_Transporte_ARIMA.xlsx\", sheet = \"Datos\", col_names = TRUE)\n",
                "\n",
                "head(Predict_Datos)\n"
            ]
        },
        {
            "cell_type": "markdown",
            "metadata": {},
            "source": [
                "# Conversion a series de tiempo:\n",
                "\n"
            ]
        },
        {
            "cell_type": "code",
            "execution_count": null,
            "metadata": {},
            "outputs": [],
            "source": [
                "D_Mar2020_f\t<- ts(Predict_Datos$D_Mar2020, \n",
                "                start = c(2021, 8), \n",
                "                freq = 12)\n",
                "\n",
                "D_Abr2020_f\t<- ts(Predict_Datos$D_Abr2020, \n",
                "                start = c(2021, 8), \n",
                "                freq = 12)\n",
                "\n",
                "D_Jun2020_f\t<- ts(Predict_Datos$D_Jun2020, \n",
                "                start = c(2021, 8), \n",
                "                freq = 12)\n",
                "\n",
                "D_Jul2020_f <- ts(Predict_Datos$D_Jul2020, \n",
                "                start = c(2021, 8), \n",
                "                freq = 12)\n",
                "\n",
                "D_Mar2021_f <- ts(Predict_Datos$D_Mar2021, \n",
                "                start = c(2021, 8), \n",
                "                freq = 12)\n",
                "\n",
                "D_Ene_f <- ts(Predict_Datos$D_Ene, \n",
                "            start = c(2021, 8), \n",
                "            freq = 12)\n",
                "\n",
                "D_Feb_f <- ts(Predict_Datos$D_Feb, \n",
                "            start = c(2021, 8), \n",
                "            freq = 12)\n",
                "\n",
                "D_Jul_f <- ts(Predict_Datos$D_Jul, \n",
                "            start = c(2021, 8), \n",
                "            freq = 12)\n",
                "\n",
                "D_Dic_f <- ts(Predict_Datos$D_Dic, \n",
                "            start = c(2021, 8), \n",
                "            freq = 12)\n"
            ]
        },
        {
            "cell_type": "markdown",
            "metadata": {},
            "source": [
                "# Prediccion 2 años de la serie en diferencias:\n",
                "\n"
            ]
        },
        {
            "cell_type": "code",
            "execution_count": null,
            "metadata": {},
            "outputs": [],
            "source": [
                "predict(ARMA_Ex_DLPax_Nal_2, n.ahead = 24, \n",
                "        newxreg = cbind(D_Ene_f, D_Feb_f, D_Jul_f, D_Dic_f, \n",
                "                        D_Mar2020_f, D_Abr2020_f, D_Jun2020_f, D_Jul2020_f, D_Mar2021_f))\n",
                "\n",
                "DLPax_Nal_f <- predict(ARMA_Ex_DLPax_Nal_2, n.ahead = 24, \n",
                "                      newxreg = cbind(D_Ene_f, D_Feb_f, D_Jul_f, D_Dic_f, \n",
                "                                      D_Mar2020_f, D_Abr2020_f, D_Jun2020_f, D_Jul2020_f, D_Mar2021_f))\n",
                "\n",
                "names(DLPax_Nal_f)\n"
            ]
        },
        {
            "cell_type": "markdown",
            "metadata": {},
            "source": [
                "# Prediccion de la serie original:\n",
                "\n"
            ]
        },
        {
            "cell_type": "code",
            "execution_count": null,
            "metadata": {},
            "outputs": [],
            "source": [
                "Pronostico_Arima <- read_excel(\"Pronostico_Arima.xlsx\", sheet = \"Datos\", col_names = TRUE)\n",
                "\n",
                "Pronostico_Arima$Pax_Nal_f <- Pronostico_Arima$Pax_Nal\n",
                "\n",
                "for(i in 1:24){\n",
                "  Pronostico_Arima$Pax_Nal_f[259 + i] <- \n",
                "    Pronostico_Arima$Pax_Nal_f[259 + i - 1]*(1 + DLPax_Nal_f$pred[i])\n",
                "}\n",
                "\n",
                "View(Pronostico_Arima)\n"
            ]
        },
        {
            "cell_type": "markdown",
            "metadata": {},
            "source": [
                "# Grafica\n",
                "\n"
            ]
        },
        {
            "cell_type": "code",
            "execution_count": null,
            "metadata": {},
            "outputs": [],
            "source": [
                "options(scipen = 999) # NO notacion cientifica\n",
                "\n",
                "ggplot(data = Pronostico_Arima, aes(x = Periodo)) +\n",
                "  geom_line(aes(y = Pax_Nal_f, color = \"Pax_Nal_f\")) +\n",
                "  geom_line(aes(y = Pax_Nal, color = \"Pax_Nal\")) +\n",
                "  scale_color_brewer(type = \"qual\", palette = 2) +\n",
                "  #theme_bw() + \n",
                "  theme(legend.position = \"bottom\") +\n",
                "  theme(legend.title = element_blank()) +\n",
                "  guides(col = guide_legend(nrow = 1, byrow = TRUE)) + \n",
                "  xlab(\"Tiempo\") + \n",
                "  ylab(\"Pasajeros\") + \n",
                "  theme(plot.title = element_text(size = 11, face = \"bold\", hjust = 0)) + \n",
                "  theme(plot.subtitle = element_text(size = 10, hjust = 0)) + \n",
                "  theme(plot.caption = element_text(size = 10, hjust = 0)) +\n",
                "  theme(plot.margin = unit(c(1,1,1,1), \"cm\")) +\n",
                "  labs(\n",
                "    title = \"Pasajeros en vuelos nacionales (Salidas)\",\n",
                "    subtitle = \"(Ene-2000 a Jun-2019)\",\n",
                "    caption = \"Fuente: Elaboración propia\"\n",
                "  )\n",
                "\n",
                "ggsave(\"Pax_Nal_f.png\", width = 20, height = 15, units = \"cm\")\n"
            ]
        }
    ],
    "metadata": {
        "anaconda-cloud": "",
        "kernelspec": {
            "display_name": "R",
            "langauge": "R",
            "name": "ir"
        },
        "language_info": {
            "codemirror_mode": "r",
            "file_extension": ".r",
            "mimetype": "text/x-r-source",
            "name": "R",
            "pygments_lexer": "r",
            "version": "3.4.1"
        }
    },
    "nbformat": 4,
    "nbformat_minor": 1
}
