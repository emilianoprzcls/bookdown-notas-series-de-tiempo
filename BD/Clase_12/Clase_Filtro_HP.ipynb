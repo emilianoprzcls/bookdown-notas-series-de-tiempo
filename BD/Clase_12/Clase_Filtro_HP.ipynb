{
    "cells": [
        {
            "cell_type": "markdown",
            "metadata": {},
            "source": [
                "## Filtro Hodrick & Prescott (1997)\n",
                "\n",
                "El articulo original es una discusion respecto de como modelar la brecha del PIB: \"Modelling the output gap - Hodrick-Prescott filter\". Estos modelos fueron desarrollados por Hodrick & Prescott (1997), quienes sugieren algunos valores - constantes - para el coeficiente de castigo por desviaciones respecto de la trayectoria de largo plazo ($\\lambda$):\n",
                "\n",
                "* $\\lambda$ = 100 for yearly data\n",
                "* $\\lambda$ = 1600 for quarterly data\n",
                "* $\\lambda$ = 14400 for monthly data\n",
                "\n",
                "### Dependencies and Setup\n"
            ]
        },
        {
            "cell_type": "code",
            "execution_count": null,
            "metadata": {},
            "outputs": [],
            "source": [
                "knitr::opts_chunk$set(echo = TRUE)\n",
                "\n",
                "#install.packages(\"ggplot2\")\n",
                "#install.packages(\"dplyr\")\n",
                "#install.packages(\"readxl\")\n",
                "#install.packages(stats)\n",
                "#install.packages(\"mFilter\")\n",
                "# \n",
                "library(ggplot2)\n",
                "library(dplyr)\n",
                "library(readxl)\n",
                "library(stats)\n",
                "library(mFilter)\n"
            ]
        },
        {
            "cell_type": "markdown",
            "metadata": {},
            "source": [
                "# Importamos Datos desde un archivo de R:\n",
                "\n",
                "Los datos \"cargados\" son los originales y los ajustados por estacionalidad. Los cuales son:\n",
                "\n",
                "* INPC: Indice Nacional de Precios al Consumidor (2QJul2018 = 100)\n",
                "\n",
                "* TC: Tipo de Cambio FIX \n",
                "\n",
                "* CETE28: Tasa de rendimiento promedio mensual de los Cetes 28, en por ciento anual\n",
                "\n",
                "* IGAE: Indicador global de la actividad económica (2013 = 100)\n",
                "\n",
                "* IPI: Industrial Production Index (2012 = 100)\n"
            ]
        },
        {
            "cell_type": "code",
            "execution_count": null,
            "metadata": {},
            "outputs": [],
            "source": [
                "load(\"Datos_Ad.RData\")\n",
                "\n",
                "head(Datos_Ad)\n"
            ]
        },
        {
            "cell_type": "markdown",
            "metadata": {},
            "source": [
                "## Conversion a series de tiempo:\n",
                "\n"
            ]
        },
        {
            "cell_type": "code",
            "execution_count": null,
            "metadata": {},
            "outputs": [],
            "source": [
                "INPC <- ts(Datos_Ad$INPC_Ad, start = c(2000, 1), freq = 12)\n",
                "\n",
                "TC <- ts(Datos_Ad$TC_Ad, start = c(2000, 1), freq = 12)\n"
            ]
        },
        {
            "cell_type": "markdown",
            "metadata": {},
            "source": [
                "## Filtro Hodrick-Prescott:\n",
                "\n",
                "### INPC:\n"
            ]
        },
        {
            "cell_type": "code",
            "execution_count": null,
            "metadata": {},
            "outputs": [],
            "source": [
                "#?hpfilter\n",
                "\n",
                "INPC_hpf <- hpfilter(INPC, freq = 14400)\n",
                "\n",
                "names(INPC_hpf)\n"
            ]
        },
        {
            "cell_type": "markdown",
            "metadata": {},
            "source": "\n"
        },
        {
            "cell_type": "code",
            "execution_count": null,
            "metadata": {},
            "outputs": [],
            "source": [
                "INPC_hpf$cycle\n",
                "\n",
                "INPC_hpf$trend\n",
                "\n",
                "INPC_hpf$lambda\n",
                "\n",
                "INPC_hpf$x\n"
            ]
        },
        {
            "cell_type": "markdown",
            "metadata": {},
            "source": "\n"
        },
        {
            "cell_type": "code",
            "execution_count": null,
            "metadata": {},
            "outputs": [],
            "source": [
                "plot(INPC_hpf)\n",
                "\n",
                "INPC_Cycle <- INPC_hpf$cycle\n",
                "\n",
                "INPC_Trend <- INPC_hpf$trend\n"
            ]
        },
        {
            "cell_type": "markdown",
            "metadata": {},
            "source": [
                "### TC:\n",
                "\n"
            ]
        },
        {
            "cell_type": "code",
            "execution_count": null,
            "metadata": {},
            "outputs": [],
            "source": [
                "TC_hpf <- hpfilter(TC, freq = 14400)\n",
                "\n",
                "plot(TC_hpf)\n",
                "\n",
                "TC_Cycle <- TC_hpf$cycle\n",
                "\n",
                "TC_Trend <- TC_hpf$trend\n"
            ]
        },
        {
            "cell_type": "markdown",
            "metadata": {},
            "source": [
                "# DataFrame:\n",
                "\n"
            ]
        },
        {
            "cell_type": "code",
            "execution_count": null,
            "metadata": {},
            "outputs": [],
            "source": [
                "Datos_HPF <- cbind(Datos_Ad$FECHA, \n",
                "                  data.frame(cbind(INPC, \n",
                "                                   INPC_Trend, \n",
                "                                   INPC_Cycle, \n",
                "                                   TC, \n",
                "                                   TC_Trend, \n",
                "                                   TC_Cycle)))\n"
            ]
        }
    ],
    "metadata": {
        "anaconda-cloud": "",
        "kernelspec": {
            "display_name": "R",
            "langauge": "R",
            "name": "ir"
        },
        "language_info": {
            "codemirror_mode": "r",
            "file_extension": ".r",
            "mimetype": "text/x-r-source",
            "name": "R",
            "pygments_lexer": "r",
            "version": "3.4.1"
        }
    },
    "nbformat": 4,
    "nbformat_minor": 1
}
