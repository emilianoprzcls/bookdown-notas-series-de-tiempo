{
    "cells": [
        {
            "cell_type": "markdown",
            "metadata": {},
            "source": [
                "\n",
                "### Dependencies and Setup\n"
            ]
        },
        {
            "cell_type": "code",
            "execution_count": null,
            "metadata": {},
            "outputs": [],
            "source": [
                "knitr::opts_chunk$set(echo = TRUE)\n",
                "\n",
                "#install.packages(\"ggplot2\")\n",
                "#install.packages(\"dplyr\")\n",
                "#install.packages(\"readxl\")\n",
                "# \n",
                "library(ggplot2)\n",
                "library(dplyr)\n",
                "library(readxl)\n"
            ]
        },
        {
            "cell_type": "markdown",
            "metadata": {},
            "source": [
                "# Importamos Datos:\n",
                "\n",
                "Los datos importados son:\n",
                "\n",
                "* Pax_Nal: Pasajeros (Salidas) en vuelos nacionales\n",
                "* Pax_Int: Pasajeros (Salidas) en vuelos internacionales \n",
                "* Vue_Nal: Vuelos u operaciones (Salidas) en vuelos nacionales\n",
                "* Vue_Int: Vuelos u operaciones (Salidas) en vuelos internacionales\n",
                "* Pax_Metro: Pasajeros transportados (Millones) en el SCM\n",
                "\n",
                "Fuente: INEGI, https://www.inegi.org.mx/app/indicadores/?tm=0&t=1090\n"
            ]
        },
        {
            "cell_type": "code",
            "execution_count": null,
            "metadata": {},
            "outputs": [],
            "source": [
                "Datos <- read_excel(\"Base_Transporte.xlsx\", sheet = \"Datos\", col_names = TRUE)\n",
                "\n",
                "head(Datos)\n"
            ]
        },
        {
            "cell_type": "markdown",
            "metadata": {},
            "source": [
                "# Repaso de manejo de Data Frames:\n",
                "\n"
            ]
        },
        {
            "cell_type": "code",
            "execution_count": null,
            "metadata": {},
            "outputs": [],
            "source": [
                "View(Datos)\n",
                "\n",
                "names(Datos)\n",
                "\n",
                "tail(Datos)\n",
                "\n",
                "str(Datos)\n",
                "\n",
                "dim(Datos)\n",
                "\n",
                "Datos[ , 2]\n",
                "\n",
                "Datos[5 , ]\n",
                "\n",
                "Datos[c(2:259) , 2]\n",
                "\n",
                "Datos[ , c(2:6)]\n",
                "\n",
                "Datos[ , c(2, 3, 4, 5, 6)]\n",
                "\n",
                "Datos[c(\"Pax_Nal\", \"Pax_Int\", \"Vue_Nal\", \"Vue_Int\")]\n"
            ]
        },
        {
            "cell_type": "markdown",
            "metadata": {},
            "source": [
                "# Tabla de estadísticas decriptivas\n",
                "\n"
            ]
        },
        {
            "cell_type": "code",
            "execution_count": null,
            "metadata": {},
            "outputs": [],
            "source": [
                "summary( Datos[ ,c(2:6)] )\n",
                "\n",
                "Resumen1 <- summary(Datos[ ,c(2:6)])\n",
                "\n",
                "Resumen1\n"
            ]
        },
        {
            "cell_type": "markdown",
            "metadata": {},
            "source": [
                "# Conversion a series de tiempo con la función ts -- time series:\n",
                "\n",
                "Una serie - caso univariado:\n"
            ]
        },
        {
            "cell_type": "code",
            "execution_count": null,
            "metadata": {},
            "outputs": [],
            "source": [
                "Pax_Metro <- ts(Datos$Pax_Metro, \n",
                "                start = 2000, \n",
                "                freq = 12)\n"
            ]
        },
        {
            "cell_type": "markdown",
            "metadata": {},
            "source": [
                "Varias series - multivariado:\n",
                "\n"
            ]
        },
        {
            "cell_type": "code",
            "execution_count": null,
            "metadata": {},
            "outputs": [],
            "source": [
                "Dat_Aereo <- ts(Datos[c(\"Pax_Nal\", \"Pax_Int\", \"Vue_Nal\", \"Vue_Int\")], \n",
                "                start = 2000, \n",
                "                freq = 12)\n"
            ]
        },
        {
            "cell_type": "markdown",
            "metadata": {},
            "source": [
                "# Graficas:\n",
                "\n"
            ]
        },
        {
            "cell_type": "code",
            "execution_count": null,
            "metadata": {},
            "outputs": [],
            "source": [
                "plot(Pax_Metro, \n",
                "     col = \"darkblue\", \n",
                "     xlab = \"Tiempo\",  \n",
                "     type = \"l\", lwd = 2,\n",
                "     ylab = \"Millones de personas\",\n",
                "     main = \"Pasajeros Transportados en el Metro de la CDMX \\n(Ene-2000 a Jul-2021)\",\n",
                "     sub = \"Fuente: Elaboración propia con información del INEGI\")\n"
            ]
        },
        {
            "cell_type": "markdown",
            "metadata": {},
            "source": [
                "\n",
                "\n"
            ]
        },
        {
            "cell_type": "code",
            "execution_count": null,
            "metadata": {},
            "outputs": [],
            "source": [
                "ggplot(data = Datos, aes(x = Periodo, y = Pax_Metro)) + \n",
                "  geom_line(size = 0.5, color = \"darkblue\") +\n",
                "  #geom_point(size = 1.0, color = \"darkblue\") + \n",
                "  #theme_bw() + \n",
                "  xlab(\"Tiempo\") + \n",
                "  ylab(\"Millones de pasajeros\") + \n",
                "  theme(plot.title = element_text(size = 11, face = \"bold\", hjust = 0)) + \n",
                "  theme(plot.subtitle = element_text(size = 10, hjust = 0)) + \n",
                "  theme(plot.caption = element_text(size = 10, hjust = 0)) +\n",
                "  theme(plot.margin = unit(c(1,1,1,1), \"cm\")) +\n",
                "  labs(\n",
                "    title = \"Pasajeros Transportados en el Metro de la CDMX\",\n",
                "    subtitle = \"(Ene-2000 a Jul-2021)\",\n",
                "    caption = \"Fuente: Elaboración propia con información del INEGI, \\nhttps://www.inegi.org.mx/app/indicadores/?tm=0&t=1090\"\n",
                "  )\n",
                "#\n",
                "ggsave(\"Pax_Metro.png\", width = 20, height = 15, units = \"cm\")\n"
            ]
        },
        {
            "cell_type": "markdown",
            "metadata": {},
            "source": [
                "\n",
                "\n"
            ]
        },
        {
            "cell_type": "code",
            "execution_count": null,
            "metadata": {},
            "outputs": [],
            "source": [
                "ggplot(data = Datos, aes(x = Periodo)) +\n",
                "  geom_line(aes(y = Pax_Nal, color = \"Pax_Nal\")) +\n",
                "  geom_line(aes(y = Pax_Int, color = \"Pax_Int\")) +\n",
                "  scale_color_brewer(type = \"qual\", palette = 6) +\n",
                "  #theme_bw() + \n",
                "  theme(legend.position = \"bottom\") +\n",
                "  theme(legend.title = element_blank()) +\n",
                "  guides(col = guide_legend(nrow = 1, byrow = TRUE)) + \n",
                "  xlab(\"Tiempo\") + \n",
                "  ylab(\"Pasajeros\") + \n",
                "  theme(plot.title = element_text(size = 11, face = \"bold\", hjust = 0)) + \n",
                "  theme(plot.subtitle = element_text(size = 10, hjust = 0)) + \n",
                "  theme(plot.caption = element_text(size = 10, hjust = 0)) +\n",
                "  theme(plot.margin = unit(c(1,1,1,1), \"cm\")) +\n",
                "  labs(\n",
                "    title = \"Pasajeros en vuelos nacionales e internacionales (Salidas)\",\n",
                "    subtitle = \"(Ene-2000 a Jun-2019)\",\n",
                "    caption = \"Fuente: Elaboración propia con información del INEGI, \\n https://www.inegi.org.mx/app/indicadores/?tm=0&t=1090\" )\n"
            ]
        },
        {
            "cell_type": "markdown",
            "metadata": {},
            "source": [
                "# EJERCICIO -- COMPLETAR:\n",
                "\n"
            ]
        },
        {
            "cell_type": "code",
            "execution_count": null,
            "metadata": {},
            "outputs": [],
            "source": [
                "ggplot(data = Datos, aes(x = Periodo)) +\n",
                "  geom_line(aes(y = Pax_Nal, color = )) +\n",
                "  geom_line(aes(y = Pax_Int, color = )) +\n",
                "  scale_color_brewer(type = \"qual\", palette = 6) +\n",
                "  #theme_bw() + \n",
                "  theme(legend.position = \"bottom\") +\n",
                "  theme(legend.title = element_blank()) +\n",
                "  guides(col = guide_legend(nrow = 1, byrow = TRUE)) + \n",
                "  xlab(\"Tiempo\") + \n",
                "  ylab(\"Pasajeros\") + \n",
                "  theme(plot.title = element_text(size = 11, face = \"bold\", hjust = 0)) + \n",
                "  theme(plot.subtitle = element_text(size = 10, hjust = 0)) + \n",
                "  theme(plot.caption = element_text(size = 10, hjust = 0)) +\n",
                "  theme(plot.margin = unit(c(1,1,1,1), \"cm\")) +\n",
                "  labs(\n",
                "    title = \"Número de vuelos nacionales e internacionales (Salidas)\",\n",
                "    subtitle = \"(Ene-2000 a Jun-2019)\",\n",
                "    caption = \"Fuente: Elaboración propia con información del INEGI, \\nhttps://www.inegi.org.mx/app/indicadores/?tm=0&t=1090\"\n",
                "  )\n"
            ]
        },
        {
            "cell_type": "markdown",
            "metadata": {},
            "source": [
                "# Tabla de estadisticas de caracterización de las Series de Tiempo\n",
                "\n"
            ]
        },
        {
            "cell_type": "code",
            "execution_count": null,
            "metadata": {},
            "outputs": [],
            "source": [
                "Tabla_Pax_Metro <- data.frame(matrix(c(\"Media\", \n",
                "                                      \"Varianza\", \n",
                "                                      \"Covarianza (t, t - 1)\", \n",
                "                                      \"Covarianza (t, t - 2)\", \n",
                "                                      \"Covarianza (t, t - 3)\", \n",
                "                                      \"Autocorrelacion(1)\", \n",
                "                                      \"Autocorrelacion(2)\", \n",
                "                                      \"Autocorrelacion(3)\", \n",
                "                                      \"Q(1)\", \n",
                "                                      \"Q(3)*\"), \n",
                "                                    nrow = 10, \n",
                "                                    ncol = 1) )\n",
                "\n",
                "#\n",
                "Tabla_Pax_Metro\n"
            ]
        },
        {
            "cell_type": "markdown",
            "metadata": {},
            "source": "\n"
        },
        {
            "cell_type": "code",
            "execution_count": null,
            "metadata": {},
            "outputs": [],
            "source": [
                "names(Tabla_Pax_Metro)\n",
                "\n",
                "names(Tabla_Pax_Metro) <- c(\"Estadística\")\n",
                "\n",
                "Tabla_Pax_Metro\n"
            ]
        },
        {
            "cell_type": "markdown",
            "metadata": {},
            "source": "\n"
        },
        {
            "cell_type": "code",
            "execution_count": null,
            "metadata": {},
            "outputs": [],
            "source": [
                "Tabla_Pax_Metro$Valor <- 0\n",
                "\n",
                "Tabla_Pax_Metro\n"
            ]
        },
        {
            "cell_type": "markdown",
            "metadata": {},
            "source": [
                "# Llenado de la tabla:\n",
                "\n"
            ]
        },
        {
            "cell_type": "code",
            "execution_count": null,
            "metadata": {},
            "outputs": [],
            "source": [
                "Tabla_Pax_Metro[1, 2] <- round(mean(Pax_Metro), digits = 2)\n",
                "Tabla_Pax_Metro[2, 2] <- round(var(Pax_Metro), digits = 2)\n",
                "Tabla_Pax_Metro[3, 2] <- round(cov(Pax_Metro[2:234], Pax_Metro[1:233]), digits = 2)\n",
                "Tabla_Pax_Metro[4, 2] <- round(cov(Pax_Metro[3:234], Pax_Metro[1:232]), digits = 2)\n",
                "Tabla_Pax_Metro[5, 2] <- round(cov(Pax_Metro[4:234], Pax_Metro[1:231]), digits = 2)\n",
                "Tabla_Pax_Metro[6, 2] <- round(Tabla_Pax_Metro[3, 2]/Tabla_Pax_Metro[2, 2], digits = 2)\n",
                "Tabla_Pax_Metro[7, 2] <- round(Tabla_Pax_Metro[4, 2]/Tabla_Pax_Metro[2, 2], digits = 2)\n",
                "Tabla_Pax_Metro[8, 2] <- round(Tabla_Pax_Metro[5, 2]/Tabla_Pax_Metro[2, 2], digits = 2)\n",
                "Tabla_Pax_Metro[9, 2] <- round(234*(Tabla_Pax_Metro[6, 2]^2), digits = 2)\n",
                "Tabla_Pax_Metro[10, 2] <- round(234*(Tabla_Pax_Metro[6, 2]^2 +\n",
                "                               Tabla_Pax_Metro[7, 2]^2 +\n",
                "                               Tabla_Pax_Metro[8, 2]^2), digits = 2)\n",
                "\n",
                "#\n",
                "Tabla_Pax_Metro\n"
            ]
        },
        {
            "cell_type": "markdown",
            "metadata": {},
            "source": [
                "# Gráfica de la Funcion de Autocorrelacion:\n",
                "\n"
            ]
        },
        {
            "cell_type": "code",
            "execution_count": null,
            "metadata": {},
            "outputs": [],
            "source": [
                "acf(Pax_Metro, \n",
                "    lag.max = 150, \n",
                "    xlab = 'Resagos k en meses', \n",
                "    main=\"Funcion de Autocorrelación del número de pasajeros del metro\")\n"
            ]
        },
        {
            "cell_type": "markdown",
            "metadata": {},
            "source": [
                "# Estadística Q\n",
                "\n"
            ]
        },
        {
            "cell_type": "code",
            "execution_count": null,
            "metadata": {},
            "outputs": [],
            "source": [
                "Box.test(Pax_Metro, lag = 1)\n",
                "\n"
            ]
        },
        {
            "cell_type": "markdown",
            "metadata": {},
            "source": "\n"
        }
    ],
    "metadata": {
        "anaconda-cloud": "",
        "kernelspec": {
            "display_name": "R",
            "langauge": "R",
            "name": "ir"
        },
        "language_info": {
            "codemirror_mode": "r",
            "file_extension": ".r",
            "mimetype": "text/x-r-source",
            "name": "R",
            "pygments_lexer": "r",
            "version": "3.4.1"
        }
    },
    "nbformat": 4,
    "nbformat_minor": 1
}
