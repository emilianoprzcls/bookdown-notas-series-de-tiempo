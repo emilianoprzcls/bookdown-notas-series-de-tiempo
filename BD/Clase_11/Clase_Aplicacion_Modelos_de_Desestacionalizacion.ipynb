{
    "cells": [
        {
            "cell_type": "markdown",
            "metadata": {},
            "source": [
                "### Estos modelos fueron desarrollados por el https://www.census.gov/srd/www/x13as/\n",
                "### Existe un paquete descargable y que no requiere de instalacion disponible en:\n",
                "### https://cran.r-project.org/web/packages/x13binary/index.html\n",
                "\n",
                "### Dependencies and Setup\n"
            ]
        },
        {
            "cell_type": "code",
            "execution_count": null,
            "metadata": {},
            "outputs": [],
            "source": [
                "knitr::opts_chunk$set(echo = TRUE)\n",
                "\n",
                "#install.packages(\"ggplot2\")\n",
                "#install.packages(\"dplyr\")\n",
                "#install.packages(\"readxl\")\n",
                "#install.packages(stats)\n",
                "#install.packages(\"seasonal\")\n",
                "#install.packages(\"seasonalview\")\n",
                "#install.packages(\"shiny\")\n",
                "# \n",
                "library(ggplot2)\n",
                "library(dplyr)\n",
                "library(readxl)\n",
                "library(stats)\n",
                "library(seasonal)\n",
                "library(seasonalview)\n",
                "library(shiny)\n"
            ]
        },
        {
            "cell_type": "markdown",
            "metadata": {},
            "source": [
                "# Importamos Datos:\n",
                "\n",
                "Los datos importados son:\n",
                "\n",
                "* INPC: Indice Nacional de Precios al Consumidor (2QJul2018 = 100)\n",
                "* TC: Tipo de Cambio FIX \n",
                "* CETE28: Tasa de rendimiento promedio mensual de los Cetes 28, en por ciento anual*# IGAE: Indicador global de la actividad económica (2013 = 100)\n",
                "* IPI: Industrial Production Index (2012 = 100)\n"
            ]
        },
        {
            "cell_type": "code",
            "execution_count": null,
            "metadata": {},
            "outputs": [],
            "source": [
                "Datos <- read_excel(\"Base_VAR.xlsx\", sheet = \"Datos\", col_names = TRUE)\n",
                "\n",
                "head(Datos)\n"
            ]
        },
        {
            "cell_type": "markdown",
            "metadata": {},
            "source": [
                "# Primer ejemplo:\n",
                "\n"
            ]
        },
        {
            "cell_type": "code",
            "execution_count": null,
            "metadata": {},
            "outputs": [],
            "source": [
                "INPC <- ts(Datos$INPC, \n",
                "           start = c(2000, 1), \n",
                "           freq = 12)\n"
            ]
        },
        {
            "cell_type": "markdown",
            "metadata": {},
            "source": [
                "# Desestacionalizacion (forma complicada):\n",
                "\n"
            ]
        },
        {
            "cell_type": "code",
            "execution_count": null,
            "metadata": {},
            "outputs": [],
            "source": [
                "? seas\n",
                "\n",
                "Seas_INPC <- seas(INPC)\n",
                "\n",
                "names(Seas_INPC)\n",
                "\n",
                "summary(Seas_INPC)\n"
            ]
        },
        {
            "cell_type": "markdown",
            "metadata": {},
            "source": "\n"
        },
        {
            "cell_type": "code",
            "execution_count": null,
            "metadata": {},
            "outputs": [],
            "source": [
                "final(Seas_INPC)\n",
                "\n",
                "INPC_Ad <- final(Seas_INPC)\n"
            ]
        },
        {
            "cell_type": "markdown",
            "metadata": {},
            "source": "\n"
        },
        {
            "cell_type": "code",
            "execution_count": null,
            "metadata": {},
            "outputs": [],
            "source": [
                "original(Seas_INPC)\n",
                "\n"
            ]
        },
        {
            "cell_type": "markdown",
            "metadata": {},
            "source": "\n"
        },
        {
            "cell_type": "code",
            "execution_count": null,
            "metadata": {},
            "outputs": [],
            "source": [
                "plot(Seas_INPC)\n",
                "\n"
            ]
        },
        {
            "cell_type": "markdown",
            "metadata": {},
            "source": [
                "# Forma Facil:\n",
                "\n"
            ]
        },
        {
            "cell_type": "code",
            "execution_count": null,
            "metadata": {},
            "outputs": [],
            "source": [
                "view(Seas_INPC)\n",
                "\n"
            ]
        },
        {
            "cell_type": "markdown",
            "metadata": {},
            "source": [
                "# Conversion a series de tiempo y desestacionalizacion:\n",
                "\n"
            ]
        },
        {
            "cell_type": "code",
            "execution_count": null,
            "metadata": {},
            "outputs": [],
            "source": [
                "TC <- ts(Datos$TC, \n",
                "         start = c(2000, 1),\n",
                "         freq = 12)\n",
                "\n",
                "Seas_TC <- seas(TC)\n",
                "\n",
                "plot(Seas_TC)\n",
                "\n",
                "TC_Ad <- final(Seas_TC)\n"
            ]
        },
        {
            "cell_type": "markdown",
            "metadata": {},
            "source": "\n"
        },
        {
            "cell_type": "code",
            "execution_count": null,
            "metadata": {},
            "outputs": [],
            "source": [
                "CETE28 <- ts(Datos$CETE28, \n",
                "             start = c(2000, 1), \n",
                "             freq = 12)\n",
                "\n",
                "Seas_CETE28 <- seas(CETE28)\n",
                "\n",
                "plot(Seas_CETE28)\n",
                "\n",
                "CETE28_Ad <- final(Seas_CETE28)\n"
            ]
        },
        {
            "cell_type": "markdown",
            "metadata": {},
            "source": "\n"
        },
        {
            "cell_type": "code",
            "execution_count": null,
            "metadata": {},
            "outputs": [],
            "source": [
                "IGAE <- ts(Datos$IGAE, \n",
                "           start = c(2000, 1), \n",
                "           freq = 12)\n",
                "\n",
                "Seas_IGAE <- seas(IGAE)\n",
                "\n",
                "plot(Seas_IGAE)\n",
                "\n",
                "IGAE_Ad <- final(Seas_IGAE)\n"
            ]
        },
        {
            "cell_type": "markdown",
            "metadata": {},
            "source": "\n"
        },
        {
            "cell_type": "code",
            "execution_count": null,
            "metadata": {},
            "outputs": [],
            "source": [
                "IPI <- ts(Datos$IPI, \n",
                "          start = c(2000, 1), \n",
                "          freq = 12)\n",
                "\n",
                "Seas_IPI <- seas(IPI)\n",
                "\n",
                "plot(Seas_IPI)\n",
                "\n",
                "IPI_Ad <- final(Seas_IPI)\n"
            ]
        },
        {
            "cell_type": "markdown",
            "metadata": {},
            "source": [
                "# Agregando nuevas series desestacionalizadas:\n",
                "\n"
            ]
        },
        {
            "cell_type": "code",
            "execution_count": null,
            "metadata": {},
            "outputs": [],
            "source": [
                "Datos_Ad <- data.frame(cbind(INPC_Ad, TC_Ad, CETE28_Ad, IGAE_Ad, IPI_Ad))\n",
                "\n",
                "Datos_Ad <- cbind(Datos, Datos_Ad)\n",
                "\n",
                "save(Datos_Ad, file = \"Datos_Ad.RData\")\n"
            ]
        },
        {
            "cell_type": "markdown",
            "metadata": {},
            "source": [
                "# Llamamos el data set:\n",
                "\n"
            ]
        },
        {
            "cell_type": "code",
            "execution_count": null,
            "metadata": {},
            "outputs": [],
            "source": [
                "load(\"Datos_Ad.RData\")\n",
                "\n"
            ]
        },
        {
            "cell_type": "markdown",
            "metadata": {},
            "source": "\n"
        }
    ],
    "metadata": {
        "anaconda-cloud": "",
        "kernelspec": {
            "display_name": "R",
            "langauge": "R",
            "name": "ir"
        },
        "language_info": {
            "codemirror_mode": "r",
            "file_extension": ".r",
            "mimetype": "text/x-r-source",
            "name": "R",
            "pygments_lexer": "r",
            "version": "3.4.1"
        }
    },
    "nbformat": 4,
    "nbformat_minor": 1
}
