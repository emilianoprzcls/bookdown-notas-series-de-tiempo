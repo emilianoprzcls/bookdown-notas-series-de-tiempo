{
    "cells": [
        {
            "cell_type": "markdown",
            "metadata": {},
            "source": [
                "\n",
                "### Dependencies and Setup\n"
            ]
        },
        {
            "cell_type": "code",
            "execution_count": null,
            "metadata": {},
            "outputs": [],
            "source": [
                "knitr::opts_chunk$set(echo = TRUE)\n",
                "\n",
                "#install.packages(\"ggplot2\")\n",
                "#install.packages(\"dplyr\")\n",
                "#install.packages(stats)\n",
                "#install.packages(\"MASS\")\n",
                "#install.packages(\"strucchange\")\n",
                "#install.packages(\"zoo\")\n",
                "#install.packages(\"sandwich\")\n",
                "#install.packages(\"urca\")\n",
                "#install.packages(\"lmtest\")\n",
                "#install.packages(\"vars\")\n",
                "# \n",
                "library(ggplot2)\n",
                "library(dplyr)\n",
                "library(stats)\n",
                "library(MASS)\n",
                "library(strucchange)\n",
                "library(zoo)\n",
                "library(sandwich)\n",
                "library(urca)\n",
                "library(lmtest)\n",
                "library(vars)\n"
            ]
        },
        {
            "cell_type": "markdown",
            "metadata": {},
            "source": [
                "# Importamos Datos desde un archivo de R:\n",
                "\n",
                "Los datos \"cargados\" son los originales y los ajustados por estacionalidad. Los cuales son:\n",
                "\n",
                "* INPC: Indice Nacional de Precios al Consumidor (2QJul2018 = 100)\n",
                "\n",
                "* TC: Tipo de Cambio FIX \n",
                "\n",
                "* CETE28: Tasa de rendimiento promedio mensual de los Cetes 28, en por ciento anual\n",
                "\n",
                "* IGAE: Indicador global de la actividad económica (2013 = 100)\n",
                "\n",
                "* IPI: Industrial Production Index (2012 = 100)\n"
            ]
        },
        {
            "cell_type": "code",
            "execution_count": null,
            "metadata": {},
            "outputs": [],
            "source": [
                "load(\"Datos_Ad.RData\")\n",
                "\n",
                "head(Datos_Ad)\n"
            ]
        },
        {
            "cell_type": "markdown",
            "metadata": {},
            "source": [
                "## Conversion a series de tiempo:\n",
                "\n"
            ]
        },
        {
            "cell_type": "code",
            "execution_count": null,
            "metadata": {},
            "outputs": [],
            "source": [
                "DLINPC <- ts(log(Datos_Ad$INPC_Ad) - lag(log(Datos_Ad$INPC_Ad), k = 1), \n",
                "             start = c(2000, 1), \n",
                "             freq = 12)\n",
                "\n",
                "DLTC <- ts(log(Datos_Ad$TC_Ad) - lag(log(Datos_Ad$TC_Ad), k = 1), \n",
                "           start = c(2000, 1), \n",
                "           freq = 12)\n",
                "\n",
                "DLCETE28 <- ts(log(Datos_Ad$CETE28_Ad) - lag(log(Datos_Ad$CETE28_Ad), k = 1), \n",
                "               start = c(2000, 1), \n",
                "               freq = 12)\n",
                "\n",
                "DLIGAE <- ts(log(Datos_Ad$IGAE_Ad) - lag(log(Datos_Ad$IGAE_Ad), k = 1), \n",
                "             start = c(2000, 1), \n",
                "             freq = 12)\n",
                "\n",
                "DLIPI <- ts(log(Datos_Ad$IPI_Ad) - lag(log(Datos_Ad$IPI_Ad), k = 1), \n",
                "            start = c(2000, 1), \n",
                "            freq = 12)\n"
            ]
        },
        {
            "cell_type": "markdown",
            "metadata": {},
            "source": [
                "# Combinacion en un solo set de datos (Dos formas)\n",
                "\n",
                "### 1\n"
            ]
        },
        {
            "cell_type": "code",
            "execution_count": null,
            "metadata": {},
            "outputs": [],
            "source": [
                "Datos <- data.frame(cbind(DLINPC, DLTC, DLCETE28, DLIGAE, DLIPI))\n",
                "\n"
            ]
        },
        {
            "cell_type": "markdown",
            "metadata": {},
            "source": [
                "\n",
                "### 2\n"
            ]
        },
        {
            "cell_type": "code",
            "execution_count": null,
            "metadata": {},
            "outputs": [],
            "source": [
                "Datos <- ts(Datos[2 : 259, ], \n",
                "            start = c(2000, 2), freq = 12)\n"
            ]
        },
        {
            "cell_type": "markdown",
            "metadata": {},
            "source": [
                "## Graficas:\n",
                "\n"
            ]
        },
        {
            "cell_type": "code",
            "execution_count": null,
            "metadata": {},
            "outputs": [],
            "source": [
                "plot(Datos, plot.type = \"s\", \n",
                "     col = c(\"darkgreen\", \"darkblue\", \"darkred\", \"black\", \"purple\"), \n",
                "     main = \"Series en Diferencias logaritmicas\", \n",
                "     xlab = \"Tiempo\", ylab = \"Variacion\")\n",
                "\n",
                "legend(\"bottomright\", c(\"INPC\", \"TC\", \"CETES28\", \"IGAE\", \"IPI\"),\n",
                "       cex = 0.6, lty = 1:1, \n",
                "       col = c(\"darkgreen\", \"darkblue\", \"darkred\", \"black\", \"purple\"))\n",
                "\n",
                "#\n",
                "plot(Datos, plot.type = \"m\", \n",
                "     col = \"darkgreen\", \n",
                "     main = \"Series en Diferencias logaritmicas\", xlab = \"Tiempo\")\n"
            ]
        },
        {
            "cell_type": "markdown",
            "metadata": {},
            "source": [
                "## Implementación del VAR(p)\n",
                "\n"
            ]
        },
        {
            "cell_type": "code",
            "execution_count": null,
            "metadata": {},
            "outputs": [],
            "source": [
                "# 1. VAR(p):\n",
                "# ARGUMENTOS: \n",
                "# function (y, p = 1, \n",
                "# type = c(\"const\", \"trend\", \"both\", \"none\"), \n",
                "# season = NULL, exogen = NULL, lag.max = NULL, \n",
                "# ic = c(\"AIC\", \"HQ\", \"SC\", \"FPE\"))\n"
            ]
        },
        {
            "cell_type": "markdown",
            "metadata": {},
            "source": [
                "\n",
                "### p = 1\n"
            ]
        },
        {
            "cell_type": "code",
            "execution_count": null,
            "metadata": {},
            "outputs": [],
            "source": [
                "VAR(Datos, p = 1)\n",
                "\n",
                "VAR(Datos[ , 1:3], p = 1)\n",
                "\n",
                "VAR(Datos[ , c(1, 2, 4, 5)], p = 1, exogen = Datos[ , 3])\n"
            ]
        },
        {
            "cell_type": "markdown",
            "metadata": {},
            "source": [
                "\n",
                "### p = 2\n"
            ]
        },
        {
            "cell_type": "code",
            "execution_count": null,
            "metadata": {},
            "outputs": [],
            "source": [
                "VAR(Datos, p = 2)\n",
                "\n"
            ]
        },
        {
            "cell_type": "markdown",
            "metadata": {},
            "source": [
                "\n",
                "### p = 3\n"
            ]
        },
        {
            "cell_type": "code",
            "execution_count": null,
            "metadata": {},
            "outputs": [],
            "source": [
                "VAR(Datos, p = 3)\n",
                "\n"
            ]
        },
        {
            "cell_type": "markdown",
            "metadata": {},
            "source": [
                "\n",
                "### p = 4\n"
            ]
        },
        {
            "cell_type": "code",
            "execution_count": null,
            "metadata": {},
            "outputs": [],
            "source": [
                "VAR(Datos, p = 4)\n",
                "\n"
            ]
        },
        {
            "cell_type": "markdown",
            "metadata": {},
            "source": [
                "\n",
                "### VAR y sus componenetes\n"
            ]
        },
        {
            "cell_type": "code",
            "execution_count": null,
            "metadata": {},
            "outputs": [],
            "source": [
                "VAR01 <- VAR(Datos, p = 4, type = \"none\")\n",
                "\n",
                "names(VAR01)\n"
            ]
        },
        {
            "cell_type": "markdown",
            "metadata": {},
            "source": "\n"
        },
        {
            "cell_type": "code",
            "execution_count": null,
            "metadata": {},
            "outputs": [],
            "source": [
                "summary(VAR01)\n",
                "\n"
            ]
        },
        {
            "cell_type": "markdown",
            "metadata": {},
            "source": "\n"
        },
        {
            "cell_type": "code",
            "execution_count": null,
            "metadata": {},
            "outputs": [],
            "source": [
                "summary(VAR01, equation = \"DLIGAE\")\n",
                "\n"
            ]
        },
        {
            "cell_type": "markdown",
            "metadata": {},
            "source": "\n"
        },
        {
            "cell_type": "code",
            "execution_count": null,
            "metadata": {},
            "outputs": [],
            "source": [
                "roots(VAR01)\n",
                "\n"
            ]
        },
        {
            "cell_type": "markdown",
            "metadata": {},
            "source": [
                "## Selección de VAR\n",
                "\n",
                "### type = \"both\"\n"
            ]
        },
        {
            "cell_type": "code",
            "execution_count": null,
            "metadata": {},
            "outputs": [],
            "source": [
                "VARselect(Datos, lag.max = 12, type = \"both\")\n",
                "\n"
            ]
        },
        {
            "cell_type": "markdown",
            "metadata": {},
            "source": [
                "\n",
                "### type = \"const\"\n"
            ]
        },
        {
            "cell_type": "code",
            "execution_count": null,
            "metadata": {},
            "outputs": [],
            "source": [
                "VARselect(Datos, lag.max = 12, type = \"const\")\n",
                "\n"
            ]
        },
        {
            "cell_type": "markdown",
            "metadata": {},
            "source": [
                "\n",
                "### type = \"none\"\n"
            ]
        },
        {
            "cell_type": "code",
            "execution_count": null,
            "metadata": {},
            "outputs": [],
            "source": [
                "VARselect(Datos, lag.max = 12, type = \"none\")\n",
                "\n"
            ]
        },
        {
            "cell_type": "markdown",
            "metadata": {},
            "source": [
                "## Var OPTIMO:\n",
                "\n"
            ]
        },
        {
            "cell_type": "code",
            "execution_count": null,
            "metadata": {},
            "outputs": [],
            "source": [
                "VAR02 <- VAR(Datos, p = 2)\n",
                "\n",
                "summary(VAR02)\n"
            ]
        },
        {
            "cell_type": "markdown",
            "metadata": {},
            "source": "\n"
        },
        {
            "cell_type": "code",
            "execution_count": null,
            "metadata": {},
            "outputs": [],
            "source": [
                "summary(VAR02, equation = \"DLIGAE\")\n",
                "\n"
            ]
        },
        {
            "cell_type": "markdown",
            "metadata": {},
            "source": "\n"
        },
        {
            "cell_type": "code",
            "execution_count": null,
            "metadata": {},
            "outputs": [],
            "source": [
                "summary(VAR02, equation = \"DLINPC\")\n",
                "\n"
            ]
        },
        {
            "cell_type": "markdown",
            "metadata": {},
            "source": "\n"
        },
        {
            "cell_type": "code",
            "execution_count": null,
            "metadata": {},
            "outputs": [],
            "source": [
                "summary(VAR02, equation = \"DLCETE28\")\n",
                "\n"
            ]
        }
    ],
    "metadata": {
        "anaconda-cloud": "",
        "kernelspec": {
            "display_name": "R",
            "langauge": "R",
            "name": "ir"
        },
        "language_info": {
            "codemirror_mode": "r",
            "file_extension": ".r",
            "mimetype": "text/x-r-source",
            "name": "R",
            "pygments_lexer": "r",
            "version": "3.4.1"
        }
    },
    "nbformat": 4,
    "nbformat_minor": 1
}
