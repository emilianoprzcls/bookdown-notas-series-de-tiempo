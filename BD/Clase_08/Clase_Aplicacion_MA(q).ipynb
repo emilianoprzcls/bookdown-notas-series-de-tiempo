{
    "cells": [
        {
            "cell_type": "markdown",
            "metadata": {},
            "source": [
                "\n",
                "### Dependencies and Setup\n"
            ]
        },
        {
            "cell_type": "code",
            "execution_count": null,
            "metadata": {},
            "outputs": [],
            "source": [
                "knitr::opts_chunk$set(echo = TRUE)\n",
                "\n",
                "#install.packages(\"ggplot2\")\n",
                "#install.packages(\"dplyr\")\n",
                "#install.packages(\"readxl\")\n",
                "#install.packages(stats)\n",
                "# \n",
                "library(ggplot2)\n",
                "library(dplyr)\n",
                "library(readxl)\n",
                "library(stats)\n"
            ]
        },
        {
            "cell_type": "markdown",
            "metadata": {},
            "source": [
                "# Importamos Datos:\n",
                "\n",
                "Los datos importados son:\n",
                "\n",
                "* Pax_Nal: Pasajeros (Salidas) en vuelos nacionales\n",
                "* Pax_Int: Pasajeros (Salidas) en vuelos internacionales \n",
                "* Vue_Nal: Vuelos u operaciones (Salidas) en vuelos nacionales\n",
                "* Vue_Int: Vuelos u operaciones (Salidas) en vuelos internacionales\n",
                "* Pax_Metro: Pasajeros transportados (Millones) en el SCM\n",
                "* D_Sep2017: Dummy que toma el valor de 1 en septiembre de 2017\n",
                "* D_Oct2017: Dummy que toma el valor de 1 en octubre de 2017\n",
                "* D_Mar2020: Dummy que toma el valor de 1 en marzo de 2020\n",
                "* D_Abr2020: Dummy que toma el valor de 1 en abril de 2020\n",
                "* D_Ene2021: Dummy que toma el valor de 1 en enero de 2021\n",
                "* D_Ene: Dummy que toma el valor de 1 en todos los eneros\n",
                "* D_Dic: Dummy que toma el valor de 1 en todos los diciembres\n",
                "\n",
                "Fuente: INEGI, https://www.inegi.org.mx/app/indicadores/?tm=0&t=1090\n"
            ]
        },
        {
            "cell_type": "code",
            "execution_count": null,
            "metadata": {},
            "outputs": [],
            "source": [
                "Datos <- read_excel(\"Base_Transporte_ARIMA.xlsx\", sheet = \"Datos\", col_names = TRUE)\n",
                "\n",
                "head(Datos)\n"
            ]
        },
        {
            "cell_type": "markdown",
            "metadata": {},
            "source": [
                "# Funciones que extrae y grafica las raices del polinomio caracteristico\n",
                "\n"
            ]
        },
        {
            "cell_type": "code",
            "execution_count": null,
            "metadata": {},
            "outputs": [],
            "source": [
                "source(\"maroots.R\")\n",
                "\n",
                "source(\"plot.armaroots.R\")\n"
            ]
        },
        {
            "cell_type": "markdown",
            "metadata": {},
            "source": [
                "# Conversion a series de tiempo:\n",
                "\n"
            ]
        },
        {
            "cell_type": "code",
            "execution_count": null,
            "metadata": {},
            "outputs": [],
            "source": [
                "Pax_Metro <- ts(Datos$Pax_Metro, \n",
                "                start = c(2000, 1), \n",
                "                freq = 12)\n",
                "\n",
                "LPax_Metro <- ts(log(Datos$Pax_Metro), \n",
                "                 start = c(2000, 1), \n",
                "                 freq = 12)\n",
                "\n",
                "DLPax_Metro <- ts(log(Datos$Pax_Metro) - lag(log(Datos$Pax_Metro), k = 1),\n",
                "                  start = c(2000, 1), \n",
                "                  freq = 12)\n",
                "\n",
                "D_Sep2017 <- ts(Datos$D_Sep2017, \n",
                "                start = c(2000, 1), \n",
                "                freq = 12)\n",
                "\n",
                "D_Oct2017 <- ts(Datos$D_Oct2017, \n",
                "                start = c(2000, 1), \n",
                "                freq = 12)\n",
                "\n",
                "D_Feb2020 <- ts(Datos$D_Feb2020, \n",
                "                start = c(2000, 1), \n",
                "                freq = 12)\n",
                "\n",
                "D_Mar2020 <- ts(Datos$D_Mar2020, \n",
                "                start = c(2000, 1), \n",
                "                freq = 12)\n",
                "\n",
                "D_Abr2020 <- ts(Datos$D_Abr2020, \n",
                "                start = c(2000, 1), \n",
                "                freq = 12)\n",
                "\n",
                "D_May2020 <- ts(Datos$D_May2020, \n",
                "                start = c(2000, 1), \n",
                "                freq = 12)\n",
                "\n",
                "D_Ene2021 <- ts(Datos$D_Ene2021, \n",
                "                start = c(2000, 1), \n",
                "                freq = 12)\n"
            ]
        },
        {
            "cell_type": "markdown",
            "metadata": {},
            "source": [
                "# Graficas:\n",
                "\n"
            ]
        },
        {
            "cell_type": "code",
            "execution_count": null,
            "metadata": {},
            "outputs": [],
            "source": [
                "par(mfrow=c(3,1))\n",
                "\n",
                "plot(Pax_Metro, xlab = \"Tiempo\", ylab = \"Pasajeros\",\n",
                "     main = \"Pasajeros transportados (Millones) en el SCM\",\n",
                "     col = \"darkgreen\")\n",
                "\n",
                "plot(LPax_Metro, xlab = \"Tiempo\", ylab = \"LN Pasajeros\",\n",
                "     main = \"LN Pasajeros transportados (Millones) en el SCM\",\n",
                "     col = \"darkblue\")\n",
                "\n",
                "plot(DLPax_Metro, xlab = \"Tiempo\", ylab = \"DLN Pasajeros\",\n",
                "     main = \"Diff LN Pasajeros transportados (Millones) en el SCM\", \n",
                "     col = \"darkred\")\n",
                "\n",
                "par(mfrow=c(1,1))\n"
            ]
        },
        {
            "cell_type": "markdown",
            "metadata": {},
            "source": [
                "# Estimacion del proceo MA(q)\n",
                "\n"
            ]
        },
        {
            "cell_type": "code",
            "execution_count": null,
            "metadata": {},
            "outputs": [],
            "source": [
                "# Estimacion del proceo MA(q):\n",
                "\n",
                "arima(LPax_Metro, order = c(0, 0, 1), \n",
                "      xreg = cbind(D_Sep2017, D_Feb2020, D_Mar2020, D_Abr2020, D_May2020, D_Ene2021),\n",
                "      method = \"ML\")\n"
            ]
        },
        {
            "cell_type": "markdown",
            "metadata": {},
            "source": [
                "# Función de Autocorrelación\n",
                "\n"
            ]
        },
        {
            "cell_type": "code",
            "execution_count": null,
            "metadata": {},
            "outputs": [],
            "source": [
                "acf(LPax_Metro[1:234], lag.max = 50, \n",
                "     xlab = 'Rezagos en k meses')\n"
            ]
        },
        {
            "cell_type": "markdown",
            "metadata": {},
            "source": [
                "# MA(q) en NIVELES (Modelo 1): \n",
                "\n"
            ]
        },
        {
            "cell_type": "code",
            "execution_count": null,
            "metadata": {},
            "outputs": [],
            "source": [
                "MA_LPax_Metro <- arima(LPax_Metro, order = c(0, 0, 4), \n",
                "                       method = \"ML\")\n",
                "\n",
                "MA_LPax_Metro\n",
                "\n",
                "plot(MA_LPax_Metro$residuals,\n",
                "     main = \"Residuales de un MA (4) de LN Pasajeros transportados (Millones) en el SCM\",\n",
                "     ylab = \"Residuals MA(q)\", xlab = \"Tiempo\",\n",
                "     col = \"darkred\")\n",
                "\n",
                "plot.armaroots(maroots(MA_LPax_Metro), \n",
                "               main=\"Inverse MA roots of \\nMA(p): LN PAx Metro\")\n"
            ]
        },
        {
            "cell_type": "markdown",
            "metadata": {},
            "source": [
                "# MA(q) en NIVELES (Modelo 2): \n",
                "\n"
            ]
        },
        {
            "cell_type": "code",
            "execution_count": null,
            "metadata": {},
            "outputs": [],
            "source": [
                "MA_LPax_Metro_2 <- arima(LPax_Metro, order = c(0, 0, 4),\n",
                "                       xreg = cbind(D_Sep2017, D_Mar2020, D_Abr2020, D_May2020, D_Ene2021),\n",
                "                       method = \"ML\")\n",
                "\n",
                "MA_LPax_Metro_2\n",
                "\n",
                "plot(MA_LPax_Metro_2$residuals,\n",
                "     main = \"Residuales de un MA (4) de LN Pasajeros transportados (Millones) en el SCM\",\n",
                "     ylab = \"Residuals MA(q)\", xlab = \"Tiempo\",\n",
                "     col = \"darkred\")\n",
                "\n",
                "plot.armaroots(maroots(MA_LPax_Metro_2), \n",
                "               main=\"Inverse MA roots of \\nMA(p): LN PAx Metro con Dummy\")\n"
            ]
        },
        {
            "cell_type": "markdown",
            "metadata": {},
            "source": [
                "# Comparación\n",
                "\n"
            ]
        },
        {
            "cell_type": "code",
            "execution_count": null,
            "metadata": {},
            "outputs": [],
            "source": [
                "par(mfrow=c(1,2))\n",
                "\n",
                "plot(MA_LPax_Metro$residuals,\n",
                "     main = \"Sin Dummy\",\n",
                "     ylab = \"Residuals MA(q)\")\n",
                "\n",
                "plot(MA_LPax_Metro_2$residuals,\n",
                "     main = \"Con Dummy\",\n",
                "     ylab = \"Residuals MA(q) (2)\")\n",
                "\n",
                "par(mfrow=c(1,1))\n",
                "\n",
                "#\n",
                "\n",
                "par(mfrow=c(1,2))\n",
                "\n",
                "plot.armaroots(maroots(MA_LPax_Metro), \n",
                "               main=\"Inverse MA roots of \\nMA(p): LN PAx Metro\")\n",
                "\n",
                "plot.armaroots(maroots(MA_LPax_Metro_2), \n",
                "               main=\"Inverse MA roots of \\nMA(p): LN PAx Metro con Dummy\")\n",
                "\n",
                "par(mfrow=c(1,1))\n"
            ]
        },
        {
            "cell_type": "markdown",
            "metadata": {},
            "source": "\n"
        }
    ],
    "metadata": {
        "anaconda-cloud": "",
        "kernelspec": {
            "display_name": "R",
            "langauge": "R",
            "name": "ir"
        },
        "language_info": {
            "codemirror_mode": "r",
            "file_extension": ".r",
            "mimetype": "text/x-r-source",
            "name": "R",
            "pygments_lexer": "r",
            "version": "3.4.1"
        }
    },
    "nbformat": 4,
    "nbformat_minor": 1
}
