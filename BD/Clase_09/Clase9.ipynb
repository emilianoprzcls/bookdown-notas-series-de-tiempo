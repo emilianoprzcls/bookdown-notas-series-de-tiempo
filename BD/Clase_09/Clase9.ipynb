{
    "cells": [
        {
            "cell_type": "markdown",
            "metadata": {},
            "source": [
                "\n",
                "### Dependencies and Setup\n"
            ]
        },
        {
            "cell_type": "code",
            "execution_count": null,
            "metadata": {},
            "outputs": [],
            "source": [
                "knitr::opts_chunk$set(echo = TRUE)\n",
                "\n",
                "#install.packages(\"ggplot2\")\n",
                "#install.packages(\"dplyr\")\n",
                "#install.packages(\"readxl\")\n",
                "#install.packages(stats)\n",
                "# \n",
                "library(ggplot2)\n",
                "library(dplyr)\n",
                "library(readxl)\n",
                "library(stats)\n"
            ]
        },
        {
            "cell_type": "markdown",
            "metadata": {},
            "source": [
                "# Importamos Datos:\n",
                "\n",
                "Los datos importados son:\n",
                "\n",
                "* Pax_Nal: Pasajeros (Salidas) en vuelos nacionales\n",
                "* Pax_Int: Pasajeros (Salidas) en vuelos internacionales \n",
                "* Vue_Nal: Vuelos u operaciones (Salidas) en vuelos nacionales\n",
                "* Vue_Int: Vuelos u operaciones (Salidas) en vuelos internacionales\n",
                "* Pax_Metro: Pasajeros transportados (Millones) en el SCM\n",
                "* D_Sep2017: Dummy que toma el valor de 1 en septiembre de 2017\n",
                "* D_Oct2017: Dummy que toma el valor de 1 en octubre de 2017\n",
                "* D_Feb2020: Dummy que toma el valor de 1 en febrero de 2020\n",
                "* D_Mar2020: Dummy que toma el valor de 1 en marzo de 2020\n",
                "* D_Abr2020: Dummy que toma el valor de 1 en abril de 2020\n",
                "* D_May2020: Dummy que toma el valor de 1 en mayo de 2020\n",
                "* D_Jun2020: Dummy que toma el valor de 1 en junio de 2020\n",
                "* D_Jul2020: Dummy que toma el valor de 1 en julio de 2020\n",
                "* D_Ene2021: Dummy que toma el valor de 1 en enero de 2021\n",
                "* D_Mar2021: Dummy que toma el valor de 1 en marzo de 2021\n",
                "* D_Ene: Dummy que toma el valor de 1 en todos los eneros\n",
                "* D_Dic: Dummy que toma el valor de 1 en todos los diciembres\n",
                "\n",
                "Fuente: INEGI, https://www.inegi.org.mx/app/indicadores/?tm=0&t=1090\n"
            ]
        },
        {
            "cell_type": "code",
            "execution_count": null,
            "metadata": {},
            "outputs": [],
            "source": [
                "Datos <- read_excel(\"Base_Transporte_ARIMA.xlsx\", sheet = \"Datos\", col_names = TRUE)\n",
                "\n",
                "head(Datos)\n"
            ]
        },
        {
            "cell_type": "markdown",
            "metadata": {},
            "source": [
                "# Funciones que extrae y grafica las raices del polinomio caracteristico\n",
                "\n"
            ]
        },
        {
            "cell_type": "code",
            "execution_count": null,
            "metadata": {},
            "outputs": [],
            "source": [
                "source(\"arroots.R\")\n",
                "source(\"maroots.R\")\n",
                "source(\"plot.armaroots.R\")\n"
            ]
        },
        {
            "cell_type": "markdown",
            "metadata": {},
            "source": [
                "# Conversion a series de tiempo:\n",
                "\n"
            ]
        },
        {
            "cell_type": "code",
            "execution_count": null,
            "metadata": {},
            "outputs": [],
            "source": [
                "Pax_Nal <- ts(Datos$Pax_Nal, \n",
                "              start = c(2000, 1), \n",
                "              freq = 12)\n",
                "\n",
                "LPax_Nal <- ts(log(Datos$Pax_Nal), \n",
                "               start = c(2000, 1), \n",
                "               freq = 12)\n",
                "\n",
                "DLPax_Nal <- ts(log(Datos$Pax_Nal) - lag(log(Datos$Pax_Nal), k = 1),\n",
                "                start = c(2000, 1), \n",
                "                freq = 12)\n",
                "\n",
                "D_Feb2020\t<- ts(Datos$D_Feb2020,\n",
                "                start = c(2000, 1), \n",
                "                freq = 12)\n",
                "\n",
                "D_Mar2020\t<- ts(Datos$D_Mar2020, \n",
                "                start = c(2000, 1), \n",
                "                freq = 12)\n",
                "\n",
                "D_Abr2020\t<- ts(Datos$D_Abr2020, \n",
                "                start = c(2000, 1), \n",
                "                freq = 12)\n",
                "\n",
                "D_May2020\t<- ts(Datos$D_May2020, \n",
                "                start = c(2000, 1), \n",
                "                freq = 12)\n",
                "\n",
                "D_Jun2020\t<- ts(Datos$D_Jun2020, \n",
                "                start = c(2000, 1), \n",
                "                freq = 12)\n",
                "\n",
                "D_Jul2020 <- ts(Datos$D_Jul2020, \n",
                "                start = c(2000, 1), \n",
                "                freq = 12)\n",
                "\n",
                "D_Ene2021 <- ts(Datos$D_Ene2021, \n",
                "                start = c(2000, 1), \n",
                "                freq = 12)\n",
                "\n",
                "D_Mar2021 <- ts(Datos$D_Mar2021, \n",
                "                start = c(2000, 1), \n",
                "                freq = 12)\n",
                "\n",
                "D_Ene <- ts(Datos$D_Ene, \n",
                "            start = c(2000, 1), \n",
                "            freq = 12)\n",
                "\n",
                "D_Feb <- ts(Datos$D_Feb, \n",
                "            start = c(2000, 1), \n",
                "            freq = 12)\n",
                "\n",
                "D_Jul <- ts(Datos$D_Jul, \n",
                "            start = c(2000, 1), \n",
                "            freq = 12)\n",
                "\n",
                "D_Dic <- ts(Datos$D_Dic, \n",
                "            start = c(2000, 1), \n",
                "            freq = 12)\n"
            ]
        },
        {
            "cell_type": "markdown",
            "metadata": {},
            "source": [
                "# Graficas:\n",
                "\n"
            ]
        },
        {
            "cell_type": "code",
            "execution_count": null,
            "metadata": {},
            "outputs": [],
            "source": [
                "par(mfrow=c(3,1))\n",
                "\n",
                "plot(Pax_Nal, xlab = \"Tiempo\", ylab = \"Pasajeros\",\n",
                "     main = \"Pasajeros en vuelos nacionales de salida\",\n",
                "     col = \"darkgreen\")\n",
                "\n",
                "plot(LPax_Nal, xlab = \"Tiempo\", ylab = \"LN Pasajeros\", \n",
                "     main = \"LN Pasajeros en vuelos nacionales de salida\",\n",
                "     col = \"darkblue\")\n",
                "\n",
                "plot(DLPax_Nal, xlab = \"Tiempo\",  ylab = \"DLN Pasajeros\",\n",
                "     main = \"Diff LN Pasajeros en vuelos nacionales de salida\", \n",
                "     col = \"darkred\")\n",
                "\n",
                "par(mfrow=c(1,1))\n"
            ]
        },
        {
            "cell_type": "markdown",
            "metadata": {},
            "source": [
                "# Estimacion de ARIMA(1, 1, 1)\n",
                "\n"
            ]
        },
        {
            "cell_type": "code",
            "execution_count": null,
            "metadata": {},
            "outputs": [],
            "source": [
                "ARMA_DLPax_Nal <- arima(DLPax_Nal, order = c(1, 0, 1),\n",
                "                        xreg = cbind(D_Ene, D_Feb, D_Jul, D_Dic),\n",
                "                        method = \"ML\")\n",
                "\n",
                "ARMA_DLPax_Nal\n",
                "\n",
                "#\n",
                "\n",
                "plot(ARMA_DLPax_Nal$residuals,\n",
                "     main = \"Residuales de un ARIMA LN Pasajeros en vuelos nacionales de salida\",\n",
                "     col = \"darkblue\",\n",
                "     ylab = \"Residuals ARMA(1, 1)\")\n",
                "\n",
                "#\n",
                "\n",
                "par(mfrow=c(1,2))\n",
                "\n",
                "plot.armaroots(arroots(ARMA_DLPax_Nal), \n",
                "               main=\"Inverse AR roots of \\nAR(p): LN PAx Nal\")\n",
                "\n",
                "plot.armaroots(maroots(ARMA_DLPax_Nal), \n",
                "               main=\"Inverse MA roots of \\nMA(q): LN PAx Nal\")\n",
                "\n",
                "par(mfrow=c(1,1))\n"
            ]
        },
        {
            "cell_type": "markdown",
            "metadata": {},
            "source": [
                "# Gráficas de las funciones de Autocorrelacion:\n",
                "\n"
            ]
        },
        {
            "cell_type": "code",
            "execution_count": null,
            "metadata": {},
            "outputs": [],
            "source": [
                "par(mfrow=c(1,2))\n",
                "\n",
                "acf(DLPax_Nal[2:234], lag.max = 24,\n",
                "    xlab = \"Rezagos\",\n",
                "    main = \"Diff LN Pasajeros Nacionales\")\n",
                "\n",
                "pacf(DLPax_Nal[2:234], lag.max = 24, \n",
                "     xlab = 'Rezagos',\n",
                "     main = \"Diff LN Pasajeros Nacionales\")\n",
                "\n",
                "par(mfrow=c(1,1))\n"
            ]
        },
        {
            "cell_type": "markdown",
            "metadata": {},
            "source": [
                "# Funciones que determinan el rezago optimo (que minimiza el criterio de Akaike)\n",
                "Esta es una prueba mas formar respecto de la meta inspeccion grafica\n"
            ]
        },
        {
            "cell_type": "code",
            "execution_count": null,
            "metadata": {},
            "outputs": [],
            "source": [
                "source(\"Lag_Opt_ARIMA_Exog.R\")\n",
                "\n",
                "# La funcion necesita de parametros definidos como:\n",
                "  # Lag_Opt_ARIMA_Ex(p_max, d_max, q_max, X_t, Ex, Z_t){\n",
                "  # p_max: Rezagos maximos a evaluar del componente AR\n",
                "  # q_max: Rezagos maximos a evaluar del componente MA\n",
                "  # d_max: Numero de diferencias evualadas\n",
                "  # X_t: Serie de Tiempo modelada\n",
                "  # Z_t: Vector o Matriz de variables exogenas\n",
                "  # Ex: es indicador de que incluye variables exogenas (0 indica que no se incluyen, y 1 que si)\n"
            ]
        },
        {
            "cell_type": "markdown",
            "metadata": {},
            "source": [
                "# Estimacion del proceso ARIMA(p, 1, q):\n",
                "CON variables exogenas:\n"
            ]
        },
        {
            "cell_type": "code",
            "execution_count": null,
            "metadata": {},
            "outputs": [],
            "source": [
                "Lag_Opt_ARIMA_Exog(p_max = 6, q_max = 6, \n",
                "                   X_t = DLPax_Nal, \n",
                "                   Ex = 1,\n",
                "                   Z_t = cbind(D_Ene, D_Feb, D_Jul, D_Dic) )\n"
            ]
        },
        {
            "cell_type": "markdown",
            "metadata": {},
            "source": [
                "SIN variables exogenas:\n",
                "\n"
            ]
        },
        {
            "cell_type": "code",
            "execution_count": null,
            "metadata": {},
            "outputs": [],
            "source": [
                "Lag_Opt_ARIMA_Exog(p_max = 6, q_max = 6, \n",
                "                   X_t = DLPax_Nal, \n",
                "                   Ex = 0,\n",
                "                   Z_t = cbind(D_Ene, D_Feb, D_Jul, D_Dic))\n"
            ]
        },
        {
            "cell_type": "markdown",
            "metadata": {},
            "source": [
                "Estimacion:\n",
                "\n"
            ]
        },
        {
            "cell_type": "code",
            "execution_count": null,
            "metadata": {},
            "outputs": [],
            "source": [
                "ARMA_Ex_DLPax_Nal <- arima(DLPax_Nal, order = c(3, 0, 4),\n",
                "                           xreg = cbind(D_Ene, D_Feb, D_Jul, D_Dic),\n",
                "                           method = \"ML\")\n",
                "\n",
                "ARMA_Ex_DLPax_Nal\n",
                "\n",
                "plot(ARMA_Ex_DLPax_Nal$residuals, \n",
                "     ylab = \"\",\n",
                "     main = \"Residuales ARMA Diff LN Pasajeros Nacionales\",\n",
                "     col = \"darkblue\")\n"
            ]
        },
        {
            "cell_type": "markdown",
            "metadata": {},
            "source": [
                "# Nueva Estimacion del proceso ARIMA(p, 1, q):\n",
                "CON variables exogenas rezagos optimos:\n"
            ]
        },
        {
            "cell_type": "code",
            "execution_count": null,
            "metadata": {},
            "outputs": [],
            "source": [
                "Lag_Opt_ARIMA_Exog(p_max = 6, q_max = 6, \n",
                "                   X_t = DLPax_Nal, \n",
                "                   Ex = 1,\n",
                "                   Z_t = cbind(D_Ene, D_Feb, D_Jul, D_Dic, D_Mar2020, D_Abr2020, D_Jun2020, D_Jul2020, D_Mar2021))\n"
            ]
        },
        {
            "cell_type": "markdown",
            "metadata": {},
            "source": "\n"
        },
        {
            "cell_type": "code",
            "execution_count": null,
            "metadata": {},
            "outputs": [],
            "source": [
                "# Estimacion:\n",
                "\n",
                "ARMA_Ex_DLPax_Nal_2 <- arima(DLPax_Nal, order = c(6, 0, 6),\n",
                "                             xreg = cbind(D_Ene, D_Feb, D_Jul, D_Dic, D_Mar2020, D_Abr2020, D_Jun2020, D_Jul2020, D_Mar2021),\n",
                "                             method = \"ML\")\n",
                "\n",
                "ARMA_Ex_DLPax_Nal_2\n",
                "\n",
                "plot(ARMA_Ex_DLPax_Nal_2$residuals, \n",
                "     ylab = \"\",\n",
                "     main = \"Residuales ARMA Diff LN Pasajeros Nacionales\",\n",
                "     col = \"darkblue\")\n",
                "\n",
                "#\n",
                "\n",
                "par(mfrow=c(1,2))\n",
                "\n",
                "plot.armaroots(arroots(ARMA_Ex_DLPax_Nal_2), \n",
                "               main=\"Inverse AR roots of \\nAR(p): LN PAx Nal\")\n",
                "\n",
                "plot.armaroots(maroots(ARMA_Ex_DLPax_Nal_2), \n",
                "               main=\"Inverse MA roots of \\nMA(q): LN PAx Nal\")\n",
                "\n",
                "par(mfrow=c(1,1))\n"
            ]
        },
        {
            "cell_type": "markdown",
            "metadata": {},
            "source": "\n"
        }
    ],
    "metadata": {
        "anaconda-cloud": "",
        "kernelspec": {
            "display_name": "R",
            "langauge": "R",
            "name": "ir"
        },
        "language_info": {
            "codemirror_mode": "r",
            "file_extension": ".r",
            "mimetype": "text/x-r-source",
            "name": "R",
            "pygments_lexer": "r",
            "version": "3.4.1"
        }
    },
    "nbformat": 4,
    "nbformat_minor": 1
}
